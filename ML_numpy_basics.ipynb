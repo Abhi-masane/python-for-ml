{
 "cells": [
  {
   "cell_type": "markdown",
   "id": "6b3657d3-a90f-47a0-80a8-fbc7cf7e2cfc",
   "metadata": {},
   "source": [
    "Numpy Basics\n",
    "\n",
    "NumPy is a Python library used for working with arrays.\n",
    "\n",
    "In Python we have lists that serve the purpose of arrays, but they are slow to process.\r",
    "\r\n",
    "NumPy aims to provide an array object that is up to 50x faster than traditional Python lists.\n"
   ]
  },
  {
   "cell_type": "code",
   "execution_count": 1,
   "id": "2adb94a2-b4b0-46be-886d-f6edcd233522",
   "metadata": {},
   "outputs": [
    {
     "name": "stdout",
     "output_type": "stream",
     "text": [
      "[2 4 5 9 6]\n",
      "32\n",
      "[[1 2 3]\n",
      " [4 5 6]]\n",
      "[[[1 2 3]\n",
      "  [4 5 6]]\n",
      "\n",
      " [[1 2 3]\n",
      "  [4 5 6]]]\n",
      "<class 'numpy.ndarray'>\n",
      "1.26.4\n"
     ]
    }
   ],
   "source": [
    "import numpy as np\n",
    "a = np.array([2,4,5,9,6]) # creates 1-D array \n",
    "b = np.array(32) # creates 0-D array\n",
    "c = np.array([[1, 2, 3], [4, 5, 6]]) # creates 2-D array\n",
    "d = np.array([[[1, 2, 3], [4, 5, 6]], [[1, 2, 3], [4, 5, 6]]]) # creates 3-D array (An array that has 2-D arrays (matrices) as its elements is called 3-D array)\n",
    "\n",
    "print(a)\n",
    "print(b)\n",
    "print(c)\n",
    "print(d)\n",
    "\n",
    "print(type(a))\n",
    "\n",
    "print(np.__version__)"
   ]
  },
  {
   "cell_type": "code",
   "execution_count": 2,
   "id": "ad2a071b-d659-43b1-99d8-a74e39509ec1",
   "metadata": {},
   "outputs": [
    {
     "name": "stdout",
     "output_type": "stream",
     "text": [
      "1\n",
      "0\n",
      "2\n",
      "3\n"
     ]
    }
   ],
   "source": [
    "# ndim attribute that returns an integer that tells us how many dimensions the array have\n",
    "print(a.ndim)\n",
    "print(b.ndim)\n",
    "print(c.ndim)\n",
    "print(d.ndim)"
   ]
  },
  {
   "cell_type": "code",
   "execution_count": 3,
   "id": "a442c947-201e-42ef-a065-bf4e27d1bbb1",
   "metadata": {},
   "outputs": [
    {
     "name": "stdout",
     "output_type": "stream",
     "text": [
      "[[[[[1 2 3 4]]]]]\n",
      "number of dimensions : 5\n"
     ]
    }
   ],
   "source": [
    "#When the array is created, we can define the number of dimensions by using the ndmin argument.\n",
    "\n",
    "arr = np.array([1, 2, 3, 4], ndmin=5)\n",
    "\n",
    "print(arr)\n",
    "print('number of dimensions :', arr.ndim)"
   ]
  },
  {
   "cell_type": "code",
   "execution_count": 4,
   "id": "2215e9ae-cb56-47b4-a426-e6020bb79726",
   "metadata": {},
   "outputs": [
    {
     "name": "stdout",
     "output_type": "stream",
     "text": [
      "3\n",
      "7\n"
     ]
    }
   ],
   "source": [
    "# NumPy Array Indexing\n",
    "\n",
    "import numpy as np\n",
    "\n",
    "arr = np.array([1, 2, 3, 4])\n",
    "print(arr[2])\n",
    "print(arr[2] + arr[3])\n"
   ]
  },
  {
   "cell_type": "code",
   "execution_count": 5,
   "id": "a567c7b4-4e7e-40b8-9a25-72e4ab9f3bd7",
   "metadata": {},
   "outputs": [
    {
     "name": "stdout",
     "output_type": "stream",
     "text": [
      "2nd element on 1st row:  2\n",
      "5th element on 2nd row:  10\n",
      "6\n",
      "10\n"
     ]
    }
   ],
   "source": [
    "# Access 2-D, 3-D Arrays\n",
    "\n",
    "arr = np.array([[1,2,3,4,5], [6,7,8,9,10]])\n",
    "\n",
    "print('2nd element on 1st row: ', arr[0, 1]) # arr[row index, column index]\n",
    "print('5th element on 2nd row: ', arr[1, 4]) \n",
    "\n",
    "brr = np.array([[[1, 2, 3], [4, 5, 6]], [[7, 8, 9], [10, 11, 12]]])\n",
    "print(brr[0, 1, 2])\n",
    "\n",
    "# Negative indexing\n",
    "\n",
    "print(arr[1, -1])\n"
   ]
  },
  {
   "cell_type": "code",
   "execution_count": 6,
   "id": "9125d7ac-f9b3-4781-9b52-3aa2bec2c27d",
   "metadata": {},
   "outputs": [
    {
     "name": "stdout",
     "output_type": "stream",
     "text": [
      "1) [2 3 4 5]\n",
      "2) [5 6 7]\n",
      "3) [1 2 3 4]\n",
      "4) [5 6]\n",
      "5) [2 4]\n",
      "6) [1 3 5 7]\n",
      "7) [7 8 9]\n",
      "8) [3 8]\n",
      "9) [[2 3 4]\n",
      " [7 8 9]]\n"
     ]
    }
   ],
   "source": [
    "# Slicing\n",
    "\n",
    "# Note: The result includes the start index, but excludes the end index.\n",
    "\n",
    "arr = np.array([1, 2, 3, 4, 5, 6, 7])\n",
    "\n",
    "print('1)', arr[1:5])\n",
    "print('2)', arr[4:])\n",
    "print('3)', arr[:4])\n",
    "print('4)', arr[-3:-1]) # Negative Slicing\n",
    "print('5)', arr[1:5:2]) # Steps\n",
    "print('6)', arr[::2]) # return every other element from the entire array\n",
    "\n",
    "# Slicing 2-D Arrays\n",
    "\n",
    "b = np.array([[1, 2, 3, 4, 5], [6, 7, 8, 9, 10]])\n",
    "\n",
    "print('7)', b[1, 1:4])\n",
    "print('8)', b[0:2, 2])\n",
    "print('9)', b[0:2, 1:4]) # returns a 2-D array\n",
    "\n"
   ]
  },
  {
   "cell_type": "markdown",
   "id": "c448a3f8-d6dd-4e9f-86aa-8b209c7b27ac",
   "metadata": {},
   "source": [
    "========== Data Types in Python ===============\r\n",
    "By default Python have these data types:\r\n",
    "\r\n",
    "strings - used to represent text data, the text is given under quote marks. e.g. \"ABCD\"\r\n",
    "integer - used to represent integer numbers. e.g. -1, -2, -3\r\n",
    "float - used to represent real numbers. e.g. 1.2, 42.42\r\n",
    "boolean - used to represent True or False.\r\n",
    "complex - used to represent complex numbers. e.g. 1.0 + 2.0j, 1.5\n",
    "\n",
    "======= Data Types in NumPy ==========\r\n",
    "NumPy has some extra data types, and refer to data types with one character, like i for integers, u for unsigned integers etc.\r\n",
    "\r\n",
    "Below is a list of all data types in NumPy and the characters used to represent them.\r\n",
    "\r\n",
    "i - integer\r\n",
    "b - boolean\r\n",
    "u - unsigned integer\r\n",
    "f - float\r\n",
    "c - complex float\r\n",
    "m - timedelta\r\n",
    "M - datetime\r\n",
    "O - object\r\n",
    "S - string\r\n",
    "U - unicode string\r\n",
    "V - fixed chunk of memory for othe\n",
    "\n",
    "==== Note: ValueError: In Python ValueError is raised when the type of passed argument to a function is unexpected/incorrect.\n",
    "r type ( void ) + 2.5j"
   ]
  },
  {
   "cell_type": "code",
   "execution_count": 7,
   "id": "e5591f04-bde7-4d91-b8cc-9a89d2dc8a49",
   "metadata": {},
   "outputs": [
    {
     "name": "stdout",
     "output_type": "stream",
     "text": [
      "a: int32\n",
      "b: <U6\n",
      "c: [b'1' b'2' b'3' b'4']\n",
      "|S1\n",
      "d: [1 2 3 4]\n",
      "int32\n"
     ]
    }
   ],
   "source": [
    "# Checking the Data Type of an Array\n",
    "\n",
    "a = np.array([1, 2, 3, 4])\n",
    "print('a:', a.dtype)\n",
    "\n",
    "b = np.array(['apple', 'banana', 'cherry'])\n",
    "print('b:', b.dtype)\n",
    "\n",
    "c = np.array([1, 2, 3, 4], dtype='S')\n",
    "print('c:', c)\n",
    "print(c.dtype)\n",
    "\n",
    "d = np.array([1, 2, 3, 4], dtype='i4')\n",
    "print('d:', d)\n",
    "print(d.dtype)"
   ]
  },
  {
   "cell_type": "code",
   "execution_count": 8,
   "id": "5e992249-9382-4df0-a438-7c7150c53371",
   "metadata": {},
   "outputs": [
    {
     "ename": "ValueError",
     "evalue": "invalid literal for int() with base 10: 'a'",
     "output_type": "error",
     "traceback": [
      "\u001b[1;31m---------------------------------------------------------------------------\u001b[0m",
      "\u001b[1;31mValueError\u001b[0m                                Traceback (most recent call last)",
      "Cell \u001b[1;32mIn[8], line 5\u001b[0m\n\u001b[0;32m      1\u001b[0m \u001b[38;5;66;03m##### ValueError: In Python ValueError is raised when the type of passed argument to a function is unexpected/incorrect.\u001b[39;00m\n\u001b[0;32m      2\u001b[0m \n\u001b[0;32m      3\u001b[0m \u001b[38;5;66;03m# A non integer string like 'a' can not be converted to integer (will raise an error):\u001b[39;00m\n\u001b[1;32m----> 5\u001b[0m arr \u001b[38;5;241m=\u001b[39m \u001b[43mnp\u001b[49m\u001b[38;5;241;43m.\u001b[39;49m\u001b[43marray\u001b[49m\u001b[43m(\u001b[49m\u001b[43m[\u001b[49m\u001b[38;5;124;43m'\u001b[39;49m\u001b[38;5;124;43ma\u001b[39;49m\u001b[38;5;124;43m'\u001b[39;49m\u001b[43m,\u001b[49m\u001b[43m \u001b[49m\u001b[38;5;124;43m'\u001b[39;49m\u001b[38;5;124;43m2\u001b[39;49m\u001b[38;5;124;43m'\u001b[39;49m\u001b[43m,\u001b[49m\u001b[43m \u001b[49m\u001b[38;5;124;43m'\u001b[39;49m\u001b[38;5;124;43m3\u001b[39;49m\u001b[38;5;124;43m'\u001b[39;49m\u001b[43m]\u001b[49m\u001b[43m,\u001b[49m\u001b[43m \u001b[49m\u001b[43mdtype\u001b[49m\u001b[38;5;241;43m=\u001b[39;49m\u001b[38;5;124;43m'\u001b[39;49m\u001b[38;5;124;43mi\u001b[39;49m\u001b[38;5;124;43m'\u001b[39;49m\u001b[43m)\u001b[49m\n",
      "\u001b[1;31mValueError\u001b[0m: invalid literal for int() with base 10: 'a'"
     ]
    }
   ],
   "source": [
    "##### ValueError: In Python ValueError is raised when the type of passed argument to a function is unexpected/incorrect.\n",
    "\n",
    "# A non integer string like 'a' can not be converted to integer (will raise an error):\n",
    "\n",
    "arr = np.array(['a', '2', '3'], dtype='i')"
   ]
  },
  {
   "cell_type": "markdown",
   "id": "588fc05b-0705-48b8-8c38-521b8c47870e",
   "metadata": {},
   "source": [
    "\n",
    "Converting Data Type on Existing Arrays\r\n",
    "The best way to change the data type of an existing array, is to make a copy of the array with the astype() method.\r\n",
    "\r\n",
    "The astype() function creates a copy of the array, and allows you to specify the data type as a parameter.\r\n",
    "\r\n",
    "The data type can be specified using a string, like 'f' for float, 'i' for integer etc. or you can use the data type directly like float for float and int for int\n",
    "eger."
   ]
  },
  {
   "cell_type": "code",
   "execution_count": 9,
   "id": "2aca1652-29ef-4939-9de8-b7b417907c99",
   "metadata": {},
   "outputs": [
    {
     "name": "stdout",
     "output_type": "stream",
     "text": [
      "newarr :  [1 2 3]\n",
      "int32\n",
      "newarr1 :  [1 2 3]\n",
      "int32\n"
     ]
    }
   ],
   "source": [
    "# Change data type from float to integer by using 'i' as parameter value:\n",
    "\n",
    "arr = np.array([1.1, 2.1, 3.1])\n",
    "\n",
    "newarr = arr.astype('i')\n",
    "\n",
    "print('newarr : ',newarr)\n",
    "print(newarr.dtype)\n",
    "\n",
    "newarr1 = arr.astype(int) # bool also can be used for boolean\n",
    "print('newarr1 : ', newarr1)\n",
    "print(newarr1.dtype)"
   ]
  },
  {
   "cell_type": "markdown",
   "id": "fd3f1c2f-85a5-4242-a086-258655f32dd7",
   "metadata": {},
   "source": [
    "Copy and View\n",
    "\n",
    "Copy : The copy owns the data and any changes made to the copy will not affect original array, and any changes made to the original array will not affect the copy.\n",
    "\n",
    "View : The view does not own the data and any changes made to the view will affect the original array, and any changes made to the original array will affect the view."
   ]
  },
  {
   "cell_type": "code",
   "execution_count": 10,
   "id": "00828de8-90f8-45a2-93a6-d562917df537",
   "metadata": {},
   "outputs": [
    {
     "name": "stdout",
     "output_type": "stream",
     "text": [
      "Copy example: \n",
      "a:  [42  2  3  4  5]\n",
      "x:  [1 2 3 4 5]\n",
      "View example: \n",
      "b:  [42  2  3  4  5]\n",
      "y:  [42  2  3  4  5]\n"
     ]
    }
   ],
   "source": [
    "#====== Copy =====#\n",
    "# When you copy the data, the variable in which you copied the data will not be dependent on original after you copy it\n",
    "\n",
    "a = np.array([1, 2, 3, 4, 5])\n",
    "x = a.copy()\n",
    "a[0] = 42\n",
    "print('Copy example: ')\n",
    "print('a: ', a)\n",
    "print('x: ',x)\n",
    "\n",
    "#====== View =====#\n",
    "# when you do view, if you change original data, variable in which you viewed the data will also change\n",
    "\n",
    "b = np.array([1, 2, 3, 4, 5])\n",
    "y = b.view()\n",
    "b[0] = 42\n",
    "print('View example: ')\n",
    "print('b: ', b)\n",
    "print('y: ',y)\n"
   ]
  },
  {
   "cell_type": "code",
   "execution_count": 11,
   "id": "ba0592e1-057e-4266-b5f1-d183e4bed558",
   "metadata": {},
   "outputs": [
    {
     "name": "stdout",
     "output_type": "stream",
     "text": [
      "None\n",
      "[1 2 3 4 5]\n"
     ]
    }
   ],
   "source": [
    "#=================Important =============#\n",
    "# Check whether the Array owns it's data\n",
    "\n",
    "arr = np.array([1, 2, 3, 4, 5])\n",
    "\n",
    "x = arr.copy()\n",
    "y = arr.view()\n",
    "\n",
    "print(x.base)\n",
    "print(y.base)\n"
   ]
  },
  {
   "cell_type": "code",
   "execution_count": 12,
   "id": "817bbabf-d430-4ca8-9478-74f4659ec827",
   "metadata": {},
   "outputs": [
    {
     "name": "stdout",
     "output_type": "stream",
     "text": [
      "(2, 4)\n",
      "[[[[[1 2 3 4]]]]]\n",
      "shape of array : (1, 1, 1, 1, 4)\n"
     ]
    }
   ],
   "source": [
    "# Shape of an Array\n",
    "# The shape of an array is the number of elements in each dimension.\n",
    "# NumPy arrays have an attribute called shape that returns a tuple with each index having the number of corresponding elements.\n",
    "\n",
    "arr = np.array([[1, 2, 3, 4], [5, 6, 7, 8]])\n",
    "print(arr.shape)\n",
    "\n",
    "# Example : Create an array with 5 dimensions using ndmin using a vector with values 1,2,3,4 and verify that last dimension has value 4:\n",
    "\n",
    "b = np.array([1, 2, 3, 4], ndmin=5)\n",
    "\n",
    "print(b)\n",
    "print('shape of array :', b.shape)"
   ]
  },
  {
   "cell_type": "code",
   "execution_count": 13,
   "id": "ebe57494-d4a6-4c47-9453-17b962878722",
   "metadata": {},
   "outputs": [
    {
     "name": "stdout",
     "output_type": "stream",
     "text": [
      "newarr = [[ 1  2  3]\n",
      " [ 4  5  6]\n",
      " [ 7  8  9]\n",
      " [10 11 12]]\n",
      "newb = [[[ 1  2]\n",
      "  [ 3  4]\n",
      "  [ 5  6]]\n",
      "\n",
      " [[ 7  8]\n",
      "  [ 9 10]\n",
      "  [11 12]]]\n"
     ]
    }
   ],
   "source": [
    "# Reshaping arrays\n",
    "# Reshaping means changing the shape of an array.\n",
    "# returns the original array, so it is a view\n",
    "\n",
    "arr = np.array([1, 2, 3, 4, 5, 6, 7, 8, 9, 10, 11, 12])\n",
    "newarr = arr.reshape(4, 3)\n",
    "print('newarr =', newarr)\n",
    "\n",
    "b = np.array([1, 2, 3, 4, 5, 6, 7, 8, 9, 10, 11, 12])\n",
    "newb = b.reshape(2, 3, 2)\n",
    "print('newb =', newb)"
   ]
  },
  {
   "cell_type": "markdown",
   "id": "3a6fc39e-5ce5-4ccc-9dbc-33191be1244b",
   "metadata": {},
   "source": [
    "\n",
    "Unknown Dimension\r\n",
    "You are allowed to have one \"unknown\" dimension.\r\n",
    "\r\n",
    "Meaning that you do not have to specify an exact number for one of the dimensions in the reshape method.\r\n",
    "\r\n",
    "Pass -1 as the value, and NumPy will calculate this number for\n",
    " you."
   ]
  },
  {
   "cell_type": "code",
   "execution_count": 14,
   "id": "e6302a4a-dadf-45f2-bb20-535f545edf01",
   "metadata": {},
   "outputs": [
    {
     "name": "stdout",
     "output_type": "stream",
     "text": [
      "[[[1 2]\n",
      "  [3 4]]\n",
      "\n",
      " [[5 6]\n",
      "  [7 8]]]\n"
     ]
    }
   ],
   "source": [
    "\n",
    "# Example\n",
    "# Convert 1D array with 8 elements to 3D array with 2x2 elements:\n",
    "\n",
    "arr = np.array([1, 2, 3, 4, 5, 6, 7, 8])\n",
    "\n",
    "newarr = arr.reshape(2, 2, -1)\n",
    "print(newarr)\n",
    "\n",
    "# Note: We can not pass -1 to more than one dimension.\n"
   ]
  },
  {
   "cell_type": "code",
   "execution_count": 15,
   "id": "193c8003-819c-4eb8-bebf-af929eb492e9",
   "metadata": {},
   "outputs": [
    {
     "name": "stdout",
     "output_type": "stream",
     "text": [
      "[1 2 3 4 5 6]\n"
     ]
    }
   ],
   "source": [
    "\n",
    "# Flattening the arrays\n",
    "# Flattening array means converting a multidimensional array into a 1D array.\n",
    "\n",
    "# We can use reshape(-1) to do this.\n",
    "\n",
    "arr = np.array([[1, 2, 3], [4, 5, 6]])\n",
    "newarr = arr.reshape(-1)\n",
    "print(newarr)\n",
    "\n",
    "# There are a lot of functions for changing the shapes of arrays in numpy flatten, ravel and also for rearranging the elements rot90, flip, fliplr, flipud etc.\n"
   ]
  },
  {
   "cell_type": "code",
   "execution_count": 16,
   "id": "976fd887-86de-4b21-a584-a5da2fd314b5",
   "metadata": {},
   "outputs": [
    {
     "name": "stdout",
     "output_type": "stream",
     "text": [
      "[1 2 3]\n",
      "[4 5 6]\n",
      "1\n",
      "2\n",
      "3\n",
      "4\n",
      "5\n",
      "6\n",
      "x represents the 2-D array:\n",
      "[[1 2 3]\n",
      " [4 5 6]]\n",
      "x represents the 2-D array:\n",
      "[[ 7  8  9]\n",
      " [10 11 12]]\n"
     ]
    }
   ],
   "source": [
    "# Iterating Arrays\n",
    "\n",
    "arr = np.array([[1, 2, 3], [4, 5, 6]])\n",
    "for x in arr:\n",
    "  print(x)\n",
    "\n",
    "# To return the actual values, the scalars, we have to iterate the arrays in each dimension.\n",
    "\n",
    "b = np.array([[1, 2, 3], [4, 5, 6]])\n",
    "\n",
    "for x in b:\n",
    "  for y in x:\n",
    "    print(y)\n",
    "\n",
    "c = np.array([[[1, 2, 3], [4, 5, 6]], [[7, 8, 9], [10, 11, 12]]])\n",
    "for x in c:\n",
    "    print(\"x represents the 2-D array:\")\n",
    "    print(x)\n"
   ]
  },
  {
   "cell_type": "code",
   "execution_count": 17,
   "id": "14d2c4f5-a20d-459f-8bfd-b22b40209dd2",
   "metadata": {},
   "outputs": [
    {
     "name": "stdout",
     "output_type": "stream",
     "text": [
      "1\n",
      "2\n",
      "3\n",
      "4\n",
      "5\n",
      "6\n",
      "7\n",
      "8\n",
      "9\n",
      "10\n",
      "11\n",
      "12\n"
     ]
    }
   ],
   "source": [
    "\n",
    "arr = np.array([[[1, 2, 3], [4, 5, 6]], [[7, 8, 9], [10, 11, 12]]])\n",
    "\n",
    "for x in arr:\n",
    "  for y in x:\n",
    "    for z in y:\n",
    "      print(z)\n",
    "        "
   ]
  },
  {
   "cell_type": "markdown",
   "id": "d52938bf-d4d2-445c-8772-23842ae42d28",
   "metadata": {},
   "source": [
    "\n",
    "Iterating Arrays Using nditer()\n"
   ]
  },
  {
   "cell_type": "code",
   "execution_count": 18,
   "id": "052438c2-1384-41e0-bfee-704c74f08fa5",
   "metadata": {},
   "outputs": [
    {
     "name": "stdout",
     "output_type": "stream",
     "text": [
      "1\n",
      "2\n",
      "3\n",
      "4\n",
      "5\n",
      "6\n",
      "7\n",
      "8\n"
     ]
    }
   ],
   "source": [
    "\n",
    "# Iterating on Each Scalar Element\n",
    "# In basic for loops, iterating through each scalar of an array we need to use n for loops which can be difficult to write for arrays with very high dimensionality.\n",
    "\n",
    "arr = np.array([[[1, 2], [3, 4]], [[5, 6], [7, 8]]])\n",
    "\n",
    "for x in np.nditer(arr):\n",
    "  print(x)"
   ]
  },
  {
   "cell_type": "code",
   "execution_count": 19,
   "id": "0d07a5ee-97ef-41a5-a318-871bca258b20",
   "metadata": {},
   "outputs": [
    {
     "name": "stdout",
     "output_type": "stream",
     "text": [
      "b'1'\n",
      "b'2'\n",
      "b'3'\n",
      "1\n",
      "3\n",
      "5\n",
      "7\n"
     ]
    }
   ],
   "source": [
    "\n",
    "# Iterate through the array as a string:\n",
    "\n",
    "arr = np.array([1, 2, 3])\n",
    "\n",
    "for x in np.nditer(arr, flags=['buffered'], op_dtypes=['S']):\n",
    "  print(x)\n",
    "\n",
    "# Iterate through every scalar element of the 2D array skipping 1 element:\n",
    "\n",
    "b = np.array([[1, 2, 3, 4], [5, 6, 7, 8]])\n",
    "\n",
    "for y in np.nditer(b[:, ::2]):\n",
    "  print(y)"
   ]
  },
  {
   "cell_type": "code",
   "execution_count": 20,
   "id": "4f5e1303-1b04-486c-a6f9-b7f66134adb0",
   "metadata": {},
   "outputs": [
    {
     "name": "stdout",
     "output_type": "stream",
     "text": [
      "(0, 0) 1\n",
      "(0, 1) 2\n",
      "(0, 2) 3\n",
      "(1, 0) 4\n",
      "(1, 1) 5\n",
      "(1, 2) 6\n"
     ]
    }
   ],
   "source": [
    "# Enumerated Iteration Using ndenumerate()\n",
    "# np.ndenumerate is a convenience iterator that loops over all elements of the array and gives you their index (multi-dimensional) along with the value.\n",
    "\n",
    "arr = np.array([[1, 2, 3], [4,5,6]])\n",
    "\n",
    "for idx, x in np.ndenumerate(arr):\n",
    "  print(idx, x)\n"
   ]
  },
  {
   "cell_type": "code",
   "execution_count": 29,
   "id": "51f635ca-03b0-49cc-9698-a25177ce5d8c",
   "metadata": {},
   "outputs": [
    {
     "name": "stdout",
     "output_type": "stream",
     "text": [
      "x: [[1 2]\n",
      " [3 4]\n",
      " [5 6]\n",
      " [7 8]]\n",
      "y: [[1 2 5 6]\n",
      " [3 4 7 8]]\n"
     ]
    }
   ],
   "source": [
    "# Joining NumPy Arrays\n",
    "# concatenate() function\n",
    "\n",
    "# We pass a sequence of arrays that we want to join to the concatenate() function, along with the axis. If axis is not explicitly passed, it is taken as 0.\n",
    "\n",
    "arr1 = np.array([[1, 2], [3, 4]])\n",
    "\n",
    "arr2 = np.array([[5, 6], [7, 8]])\n",
    "\n",
    "x = np.concatenate((arr1, arr2))\n",
    "y = np.concatenate((arr1, arr2), axis=1)\n",
    "\n",
    "print('x:', x)\n",
    "print('y:', y)"
   ]
  },
  {
   "cell_type": "code",
   "execution_count": 33,
   "id": "9c3be733-ae38-4cc2-bfdb-1f354dddb04a",
   "metadata": {},
   "outputs": [
    {
     "name": "stdout",
     "output_type": "stream",
     "text": [
      "x: [[1 2 3]\n",
      " [4 5 6]]\n",
      "y: [[1 4]\n",
      " [2 5]\n",
      " [3 6]]\n",
      "h: [1 2 3 4 5 6]\n",
      "v: [[1 2 3]\n",
      " [4 5 6]]\n"
     ]
    }
   ],
   "source": [
    "# Joining Arrays Using Stack Functions\n",
    "# Stacking is same as concatenation, the only difference is that stacking is done along a new axis.\n",
    "\n",
    "import numpy as np\n",
    "\n",
    "arr1 = np.array([1, 2, 3])\n",
    "arr2 = np.array([4, 5, 6])\n",
    "\n",
    "x = np.stack((arr1, arr2))            # stack as rows → shape (2, 3)\n",
    "y = np.stack((arr1, arr2), axis=1)    # stack as columns → shape (3, 2)\n",
    "h = np.hstack((arr1, arr2))           # join side by side → shape (6,)\n",
    "v = np.vstack((arr1, arr2))           # join one on top of the other → shape (2, 3)\n",
    "\n",
    "print('x:', x)\n",
    "print('y:', y)\n",
    "print('h:', h)\n",
    "print('v:', v)\n"
   ]
  },
  {
   "cell_type": "code",
   "execution_count": 36,
   "id": "beab33ca-bc00-499e-bcd9-ea3ace6967b2",
   "metadata": {},
   "outputs": [
    {
     "name": "stdout",
     "output_type": "stream",
     "text": [
      "[array([1, 2]), array([3, 4]), array([5, 6])]\n",
      "[array([1, 2]), array([3, 4]), array([5]), array([6])]\n"
     ]
    }
   ],
   "source": [
    "# Splitting NumPy Arrays\n",
    "# array_split()\n",
    "\n",
    "arr = np.array([1, 2, 3, 4, 5, 6])\n",
    "\n",
    "newarr = np.array_split(arr, 3)\n",
    "\n",
    "print(newarr) # Note: The return value is a list containing three arrays.\n",
    "\n",
    "##### If the array has less elements than required, it will adjust from the end accordingly. ########\n",
    "\n",
    "newarr2 = np.array_split(arr, 4)\n",
    "\n",
    "print(newarr2)\n"
   ]
  },
  {
   "cell_type": "markdown",
   "id": "05dad4f8-3b9c-47ea-add2-f81c09c00452",
   "metadata": {},
   "source": [
    "\n",
    "Note: We also have the method split() available but it will not adjust the elements when elements are less in source array for splitting like in example above, array_split() worked properly but split() would fail.\n"
   ]
  },
  {
   "cell_type": "code",
   "execution_count": 38,
   "id": "368b4479-b293-4875-85e5-9bf1c0a78084",
   "metadata": {},
   "outputs": [
    {
     "name": "stdout",
     "output_type": "stream",
     "text": [
      "[1 2]\n",
      "[3 4]\n",
      "[5 6]\n"
     ]
    }
   ],
   "source": [
    "# Accesseing the arrays from result\n",
    "\n",
    "print(newarr[0])\n",
    "print(newarr[1])\n",
    "print(newarr[2])"
   ]
  },
  {
   "cell_type": "code",
   "execution_count": 39,
   "id": "0e742dfd-66d7-4be9-9ccf-d278bc193328",
   "metadata": {},
   "outputs": [
    {
     "name": "stdout",
     "output_type": "stream",
     "text": [
      "[array([[ 1],\n",
      "       [ 4],\n",
      "       [ 7],\n",
      "       [10],\n",
      "       [13],\n",
      "       [16]]), array([[ 2],\n",
      "       [ 5],\n",
      "       [ 8],\n",
      "       [11],\n",
      "       [14],\n",
      "       [17]]), array([[ 3],\n",
      "       [ 6],\n",
      "       [ 9],\n",
      "       [12],\n",
      "       [15],\n",
      "       [18]])]\n"
     ]
    }
   ],
   "source": [
    "arr = np.array([[1, 2, 3], [4, 5, 6], [7, 8, 9], [10, 11, 12], [13, 14, 15], [16, 17, 18]])\n",
    "\n",
    "newarr = np.array_split(arr, 3, axis=1)\n",
    "\n",
    "print(newarr)\n"
   ]
  },
  {
   "cell_type": "code",
   "execution_count": 42,
   "id": "992934da-ee50-4239-8916-fb8cc02da057",
   "metadata": {},
   "outputs": [
    {
     "name": "stdout",
     "output_type": "stream",
     "text": [
      "[array([[ 1],\n",
      "       [ 4],\n",
      "       [ 7],\n",
      "       [10],\n",
      "       [13],\n",
      "       [16]]), array([[ 2],\n",
      "       [ 5],\n",
      "       [ 8],\n",
      "       [11],\n",
      "       [14],\n",
      "       [17]]), array([[ 3],\n",
      "       [ 6],\n",
      "       [ 9],\n",
      "       [12],\n",
      "       [15],\n",
      "       [18]])]\n"
     ]
    }
   ],
   "source": [
    "# hsplit() or vsplit()\n",
    "\n",
    "arr = np.array([[1, 2, 3], [4, 5, 6], [7, 8, 9], [10, 11, 12], [13, 14, 15], [16, 17, 18]])\n",
    "\n",
    "newarr = np.hsplit(arr, 3)\n",
    "\n",
    "print(newarr)"
   ]
  },
  {
   "cell_type": "code",
   "execution_count": 43,
   "id": "938d96c9-8750-4c9e-b7c5-979b611e35c4",
   "metadata": {},
   "outputs": [
    {
     "name": "stdout",
     "output_type": "stream",
     "text": [
      "(array([3, 5, 6], dtype=int64),)\n"
     ]
    }
   ],
   "source": [
    "#### Searching Arrays\n",
    "# You can search an array for a certain value, and return the indexes that get a match.\n",
    "# where()\n",
    "\n",
    "import numpy as np\n",
    "\n",
    "arr = np.array([1, 2, 3, 4, 5, 4, 4])\n",
    "\n",
    "x = np.where(arr == 4)\n",
    "\n",
    "print(x)\n"
   ]
  },
  {
   "cell_type": "code",
   "execution_count": 44,
   "id": "0f7ef37c-d0e1-4fb3-a811-1c24140068b3",
   "metadata": {},
   "outputs": [
    {
     "name": "stdout",
     "output_type": "stream",
     "text": [
      "(array([1, 3, 5, 7], dtype=int64),)\n"
     ]
    }
   ],
   "source": [
    "# Find the indexes where the values are even:\n",
    "\n",
    "arr = np.array([1, 2, 3, 4, 5, 6, 7, 8])\n",
    "\n",
    "x = np.where(arr%2 == 0)\n",
    "\n",
    "print(x)"
   ]
  },
  {
   "cell_type": "code",
   "execution_count": 48,
   "id": "0218458b-7954-420e-8bc0-7015064c3036",
   "metadata": {},
   "outputs": [
    {
     "name": "stdout",
     "output_type": "stream",
     "text": [
      "1\n",
      "2\n"
     ]
    }
   ],
   "source": [
    "###### Search Sorted\n",
    "# The searchsorted() method is assumed to be used on sorted arrays.\n",
    "\n",
    "arr = np.array([6, 7, 8, 9])\n",
    "\n",
    "x = np.searchsorted(arr, 7)\n",
    "\n",
    "print(x)\n",
    "\n",
    "# Example explained: The number 7 should be inserted on index 1 to remain the sort order.\n",
    "# The method starts the search from the left and returns the first index where the number 7 is no longer larger than the next value.\n",
    "\n",
    "# By default the left most index is returned, but we can give side='right' to return the right most index instead.\n",
    "b = np.array([6, 7, 8, 9])\n",
    "\n",
    "y = np.searchsorted(b, 7, side='right')\n",
    "\n",
    "print(y)\n"
   ]
  },
  {
   "cell_type": "code",
   "execution_count": 55,
   "id": "66c323a8-bc6e-42e6-bc7e-efda07753876",
   "metadata": {},
   "outputs": [
    {
     "name": "stdout",
     "output_type": "stream",
     "text": [
      "[0 1 2 3]\n",
      "['apple' 'banana' 'cherry']\n",
      "[[2 3 4]\n",
      " [0 1 5]]\n"
     ]
    }
   ],
   "source": [
    "##### NumPy Sorting Arrays\n",
    "# sort()\n",
    "\n",
    "arr = np.array([3, 2, 0, 1])\n",
    "print(np.sort(arr))\n",
    "\n",
    "# Note: This method returns a copy of the array, leaving the original array unchanged.\n",
    "\n",
    "b = np.array(['banana', 'cherry', 'apple'])\n",
    "print(np.sort(b))\n",
    "\n",
    "# If you use the sort() method on a 2-D array, both arrays will be sorted:\n",
    "\n",
    "c = np.array([[3, 2, 4], [5, 0, 1]])\n",
    "print(np.sort(c))\n"
   ]
  },
  {
   "cell_type": "code",
   "execution_count": 57,
   "id": "bb6b6268-a9b1-4693-b4e5-033c62c07cc5",
   "metadata": {},
   "outputs": [
    {
     "name": "stdout",
     "output_type": "stream",
     "text": [
      "[41 43]\n"
     ]
    }
   ],
   "source": [
    "########## NumPy Filter Array\n",
    "# Getting some elements out of an existing array and creating a new array out of them is called filtering.\n",
    "# In NumPy, you filter an array using a boolean index list.\n",
    "# A boolean index list is a list of booleans corresponding to indexes in the array.\n",
    "# If the value at an index is True that element is contained in the filtered array, if the value at that index is False that element is excluded from the filtered array.\n",
    "\n",
    "arr = np.array([41, 42, 43, 44])\n",
    "x = arr[[True, False, True, False]]\n",
    "print(x)\n",
    "\n",
    "\n"
   ]
  },
  {
   "cell_type": "code",
   "execution_count": 58,
   "id": "b05b315d-ba06-421e-bc15-2347fe1438de",
   "metadata": {},
   "outputs": [
    {
     "name": "stdout",
     "output_type": "stream",
     "text": [
      "[False, False, True, True]\n",
      "[43 44]\n"
     ]
    }
   ],
   "source": [
    "# Creating the Filter Array\n",
    "# In the example above we hard-coded the True and False values, but the common use is to create a filter array based on conditions.\n",
    "# Example: Create a filter array that will return only values higher than 42:\n",
    "\n",
    "import numpy as np\n",
    "\n",
    "arr = np.array([41, 42, 43, 44])\n",
    "\n",
    "# Create an empty list\n",
    "filter_arr = []\n",
    "\n",
    "# go through each element in arr\n",
    "for element in arr:\n",
    "  # if the element is higher than 42, set the value to True, otherwise False:\n",
    "  if element > 42:\n",
    "    filter_arr.append(True)\n",
    "  else:\n",
    "    filter_arr.append(False)\n",
    "\n",
    "newarr = arr[filter_arr]\n",
    "\n",
    "print(filter_arr)\n",
    "print(newarr)"
   ]
  },
  {
   "cell_type": "code",
   "execution_count": 59,
   "id": "16bc8145-04f4-4c5c-b550-1c31385b1390",
   "metadata": {},
   "outputs": [
    {
     "name": "stdout",
     "output_type": "stream",
     "text": [
      "[False, True, False, True, False, True, False]\n",
      "[2 4 6]\n"
     ]
    }
   ],
   "source": [
    "# Create a filter array that will return only even elements from the original array:\n",
    "\n",
    "import numpy as np\n",
    "\n",
    "arr = np.array([1, 2, 3, 4, 5, 6, 7])\n",
    "\n",
    "# Create an empty list\n",
    "filter_arr = []\n",
    "\n",
    "# go through each element in arr\n",
    "for element in arr:\n",
    "  # if the element is completely divisble by 2, set the value to True, otherwise False\n",
    "  if element % 2 == 0:\n",
    "    filter_arr.append(True)\n",
    "  else:\n",
    "    filter_arr.append(False)\n",
    "\n",
    "newarr = arr[filter_arr]\n",
    "\n",
    "print(filter_arr)\n",
    "print(newarr)"
   ]
  },
  {
   "cell_type": "code",
   "execution_count": 60,
   "id": "32c25191-8f62-4073-a638-a371c40a54ee",
   "metadata": {},
   "outputs": [
    {
     "name": "stdout",
     "output_type": "stream",
     "text": [
      "[False False  True  True]\n",
      "[43 44]\n"
     ]
    }
   ],
   "source": [
    "# Creating Filter Directly From Array\n",
    "\n",
    "# Create a filter array that will return only values higher than 42:\n",
    "\n",
    "import numpy as np\n",
    "\n",
    "arr = np.array([41, 42, 43, 44])\n",
    "\n",
    "filter_arr = arr > 42\n",
    "\n",
    "newarr = arr[filter_arr]\n",
    "\n",
    "print(filter_arr)\n",
    "print(newarr)\n"
   ]
  },
  {
   "cell_type": "code",
   "execution_count": null,
   "id": "36d8c79c-e923-4cc9-8ac6-49564e73713a",
   "metadata": {},
   "outputs": [],
   "source": []
  }
 ],
 "metadata": {
  "kernelspec": {
   "display_name": "Python 3 (ipykernel)",
   "language": "python",
   "name": "python3"
  },
  "language_info": {
   "codemirror_mode": {
    "name": "ipython",
    "version": 3
   },
   "file_extension": ".py",
   "mimetype": "text/x-python",
   "name": "python",
   "nbconvert_exporter": "python",
   "pygments_lexer": "ipython3",
   "version": "3.11.7"
  }
 },
 "nbformat": 4,
 "nbformat_minor": 5
}
