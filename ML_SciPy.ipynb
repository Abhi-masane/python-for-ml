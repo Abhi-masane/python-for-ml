{
 "cells": [
  {
   "cell_type": "markdown",
   "id": "60087f89",
   "metadata": {},
   "source": [
    "SciPy\n",
    "SciPy is a scientific computation library that uses NumPy underneath.\n",
    "SciPy stands for Scientific Python.\n",
    "It provides more utility functions for optimization, stats and signal processing."
   ]
  },
  {
   "cell_type": "markdown",
   "id": "03a0feff",
   "metadata": {
    "vscode": {
     "languageId": "plaintext"
    }
   },
   "source": [
    "Why Use SciPy?\n",
    "\n",
    "If SciPy uses NumPy underneath, why can we not just use NumPy?\n",
    "SciPy has optimized and added functions that are frequently used in NumPy and Data Science.\n",
    "\n",
    "SciPy is predominantly written in Python, but a few segments are written in C."
   ]
  },
  {
   "cell_type": "code",
   "execution_count": 12,
   "id": "996380cc",
   "metadata": {},
   "outputs": [
    {
     "name": "stdout",
     "output_type": "stream",
     "text": [
      "0.001\n",
      "3.141592653589793\n"
     ]
    }
   ],
   "source": [
    "# constants: SciPy offers a set of mathematical constants, one of them is liter which returns 1 liter as cubic meters.\n",
    "\n",
    "from scipy import constants\n",
    "print(constants.liter)\n",
    "print(constants.pi)\n",
    "# print(dir(constants)) # A list of all units under the constants module"
   ]
  },
  {
   "cell_type": "markdown",
   "id": "f84b5598",
   "metadata": {},
   "source": [
    "=== SciPy Optimizers\n",
    "\n",
    "** Optimizers are a set of procedures defined in SciPy that either find the minimum value of a function, or the root of an equation.\n",
    "\n",
    "** Essentially, all of the algorithms in Machine Learning are nothing more than a complex equation that needs to be minimized with the help of given data.\n",
    "\n",
    "\n",
    "=== Roots of an Equation\n",
    "\n",
    "NumPy is capable of finding roots for polynomials and linear equations, but it can not find roots for non linear equations, like this one:\n",
    "\n",
    "x + cos(x)\n",
    "\n",
    "For that you can use SciPy's **optimize.root function.\n",
    "\n",
    "** This function takes two required arguments:\n",
    "fun - a function representing an equation.\n",
    "x0 - an initial guess for the root.\n",
    "\n",
    "The function returns an object with information regarding the solution.\n",
    "The actual solution is given under attribute x of the returned object:"
   ]
  },
  {
   "cell_type": "code",
   "execution_count": 11,
   "id": "3a95d8c4",
   "metadata": {},
   "outputs": [
    {
     "name": "stdout",
     "output_type": "stream",
     "text": [
      "[-0.73908513]\n",
      " message: The solution converged.\n",
      " success: True\n",
      "  status: 1\n",
      "     fun: [ 0.000e+00]\n",
      "       x: [-7.391e-01]\n",
      "    nfev: 9\n",
      "    fjac: [[-1.000e+00]]\n",
      "       r: [-1.674e+00]\n",
      "     qtf: [-2.668e-13]\n"
     ]
    }
   ],
   "source": [
    "from scipy.optimize import root\n",
    "import numpy as np \n",
    "# if we use from math import cos; it will need a scalar value, but scipy.optimize.root() passes an array. It will show warning.\n",
    "\n",
    "def eqn(x):\n",
    "    return x + np.cos(x)\n",
    "\n",
    "rootFn = root(eqn, 0)\n",
    "print(rootFn.x)\n",
    "print(rootFn) # Print all information about the solution (not just x which is the root)"
   ]
  },
  {
   "cell_type": "markdown",
   "id": "6683a9bc",
   "metadata": {},
   "source": [
    "=== Minimizing a Function\n",
    "A function, in this context, represents a curve, curves have high points and low points.\n",
    "\n",
    "High points are called maxima.\n",
    "\n",
    "Low points are called minima.\n",
    "\n",
    "**The highest point in the whole curve is called global maxima**, whereas the rest of them are called local maxima.\n",
    "\n",
    "**The lowest point in whole curve is called global minima**, whereas the rest of them are called local minima."
   ]
  },
  {
   "cell_type": "markdown",
   "id": "abd026e7",
   "metadata": {},
   "source": [
    "Finding Minima\n",
    "We can use **scipy.optimize.minimize()** function to minimize the function.\n",
    "\n",
    "The minimize() function takes the following arguments:\n",
    "\n",
    "fun - a function representing an equation.\n",
    "\n",
    "x0 - an initial guess for the root.\n",
    "\n",
    "method - name of the method to use. Legal values:\n",
    "    'CG'\n",
    "    'BFGS'\n",
    "    'Newton-CG'\n",
    "    'L-BFGS-B'\n",
    "    'TNC'\n",
    "    'COBYLA'\n",
    "    'SLSQP'\n",
    "\n",
    "callback - function called after each iteration of optimization.\n",
    "\n",
    "options - a dictionary defining extra params:\n",
    "\n",
    "{\n",
    "     \"disp\": boolean - print detailed description\n",
    "     \"gtol\": number - the tolerance of the error\n",
    "  }"
   ]
  },
  {
   "cell_type": "code",
   "execution_count": 2,
   "id": "1ee6810a",
   "metadata": {},
   "outputs": [
    {
     "name": "stdout",
     "output_type": "stream",
     "text": [
      "  message: Optimization terminated successfully.\n",
      "  success: True\n",
      "   status: 0\n",
      "      fun: 1.75\n",
      "        x: [-5.000e-01]\n",
      "      nit: 2\n",
      "      jac: [ 0.000e+00]\n",
      " hess_inv: [[ 5.000e-01]]\n",
      "     nfev: 8\n",
      "     njev: 4\n",
      "[-0.49999999]\n"
     ]
    }
   ],
   "source": [
    "# example: \n",
    "# Minimize the function x^2 + x + 2 with BFGS:\n",
    "\n",
    "from scipy.optimize import minimize, root\n",
    "\n",
    "def eqn(x):\n",
    "    return x**2 + x + 2\n",
    "\n",
    "mymin = minimize(eqn, 0, method = 'BFGS')\n",
    "myroot = root(eqn, 0)\n",
    "print(mymin)\n",
    "print(myroot.x)"
   ]
  },
  {
   "cell_type": "markdown",
   "id": "b6ec3d24",
   "metadata": {},
   "source": [
    "=== SciPy Sparse Data\n",
    "Sparse data is data that has mostly unused elements (elements that don't carry any information ).\n",
    "In scientific computing, when we are dealing with partial derivatives in linear algebra we will come across sparse data.\n",
    "\n",
    "\"\"\" Sparse Data: is a data set where most of the item values are zero.\n",
    "Dense Array: is the opposite of a sparse array: most of the values are not zero. \"\"\"\n",
    "\n",
    "How to Work With Sparse Data\n",
    "SciPy has a module, scipy.sparse that provides functions to deal with sparse data.\n",
    "\n",
    "There are primarily two types of sparse matrices that we use:\n",
    "\n",
    "**CSC - Compressed Sparse Column. For efficient arithmetic, fast column slicing.**\n",
    "\n",
    "**CSR - Compressed Sparse Row. For fast row slicing, faster matrix vector products**"
   ]
  },
  {
   "cell_type": "code",
   "execution_count": 13,
   "id": "f46ba61c",
   "metadata": {},
   "outputs": [
    {
     "name": "stdout",
     "output_type": "stream",
     "text": [
      "  (1, 1)\t1\n",
      "  (2, 1)\t1\n",
      "  (2, 2)\t2\n",
      "stored data :  [1 1 2]\n",
      "No. of non-zeros : 3\n"
     ]
    }
   ],
   "source": [
    "\"\"\" CSR Matrix\n",
    "We can create CSR matrix by passing an arrray into function **scipy.sparse.csr_matrix().** \"\"\"\n",
    "\n",
    "## Sparse Matrix Methods\n",
    "\n",
    "import numpy as np\n",
    "from scipy.sparse import csr_matrix\n",
    "\n",
    "arr = np.array([[0, 0, 0], [0, 1, 0], [0, 1, 2]])\n",
    "\n",
    "print(csr_matrix(arr))\n",
    "print('stored data : ', csr_matrix(arr).data) # Viewing stored data (not the zero items) with the data property\n",
    "print('No. of non-zeros :', csr_matrix(arr).count_nonzero())"
   ]
  },
  {
   "cell_type": "code",
   "execution_count": null,
   "id": "294cc39c",
   "metadata": {},
   "outputs": [
    {
     "name": "stdout",
     "output_type": "stream",
     "text": [
      "mat(csr) :\n",
      "   (1, 2)\t1\n",
      "  (2, 0)\t1\n",
      "  (2, 2)\t2\n",
      "newarr(csc) :\n",
      "   (2, 0)\t1\n",
      "  (1, 2)\t1\n",
      "  (2, 2)\t2\n"
     ]
    }
   ],
   "source": [
    "# Removing zero-entries from the matrix with the eliminate_zeros() method:\n",
    "import numpy as np\n",
    "from scipy.sparse import csr_matrix\n",
    "\n",
    "arr = np.array([[0, 0, 0], [0, 0, 1], [1, 0, 2]])\n",
    "mat = csr_matrix(arr)\n",
    "mat.eliminate_zeros()\n",
    "mat.sum_duplicates() # Eliminating duplicates by adding them\n",
    "newarr = csr_matrix(arr).tocsc() # Converting from csr to csc with the tocsc() method\n",
    "print('mat(csr) :\\n',mat)\n",
    "print('newarr(csc) :\\n', newarr)\n",
    "\n",
    "\"\"\" \n",
    "# Note: Apart from the mentioned sparse specific operations, sparse matrices support all of the \n",
    "operations that normal matrices support e.g. reshaping, summing, arithemetic, broadcasting etc. \"\"\""
   ]
  },
  {
   "cell_type": "code",
   "execution_count": null,
   "id": "bcbf6d45",
   "metadata": {},
   "outputs": [],
   "source": []
  }
 ],
 "metadata": {
  "kernelspec": {
   "display_name": "base",
   "language": "python",
   "name": "python3"
  },
  "language_info": {
   "codemirror_mode": {
    "name": "ipython",
    "version": 3
   },
   "file_extension": ".py",
   "mimetype": "text/x-python",
   "name": "python",
   "nbconvert_exporter": "python",
   "pygments_lexer": "ipython3",
   "version": "3.11.7"
  }
 },
 "nbformat": 4,
 "nbformat_minor": 5
}
