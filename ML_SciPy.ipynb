{
 "cells": [
  {
   "cell_type": "markdown",
   "id": "60087f89",
   "metadata": {},
   "source": [
    "SciPy\n",
    "SciPy is a scientific computation library that uses NumPy underneath.\n",
    "SciPy stands for Scientific Python.\n",
    "It provides more utility functions for optimization, stats and signal processing."
   ]
  },
  {
   "cell_type": "markdown",
   "id": "03a0feff",
   "metadata": {
    "vscode": {
     "languageId": "plaintext"
    }
   },
   "source": [
    "Why Use SciPy?\n",
    "\n",
    "If SciPy uses NumPy underneath, why can we not just use NumPy?\n",
    "SciPy has optimized and added functions that are frequently used in NumPy and Data Science.\n",
    "\n",
    "SciPy is predominantly written in Python, but a few segments are written in C."
   ]
  },
  {
   "cell_type": "code",
   "execution_count": 12,
   "id": "996380cc",
   "metadata": {},
   "outputs": [
    {
     "name": "stdout",
     "output_type": "stream",
     "text": [
      "0.001\n",
      "3.141592653589793\n"
     ]
    }
   ],
   "source": [
    "# constants: SciPy offers a set of mathematical constants, one of them is liter which returns 1 liter as cubic meters.\n",
    "\n",
    "from scipy import constants\n",
    "print(constants.liter)\n",
    "print(constants.pi)\n",
    "# print(dir(constants)) # A list of all units under the constants module"
   ]
  },
  {
   "cell_type": "markdown",
   "id": "f84b5598",
   "metadata": {},
   "source": [
    "=== SciPy Optimizers\n",
    "\n",
    "** Optimizers are a set of procedures defined in SciPy that either find the minimum value of a function, or the root of an equation.\n",
    "\n",
    "** Essentially, all of the algorithms in Machine Learning are nothing more than a complex equation that needs to be minimized with the help of given data.\n",
    "\n",
    "\n",
    "=== Roots of an Equation\n",
    "\n",
    "NumPy is capable of finding roots for polynomials and linear equations, but it can not find roots for non linear equations, like this one:\n",
    "\n",
    "x + cos(x)\n",
    "\n",
    "For that you can use SciPy's **optimize.root function.\n",
    "\n",
    "** This function takes two required arguments:\n",
    "fun - a function representing an equation.\n",
    "x0 - an initial guess for the root.\n",
    "\n",
    "The function returns an object with information regarding the solution.\n",
    "The actual solution is given under attribute x of the returned object:"
   ]
  },
  {
   "cell_type": "code",
   "execution_count": 11,
   "id": "3a95d8c4",
   "metadata": {},
   "outputs": [
    {
     "name": "stdout",
     "output_type": "stream",
     "text": [
      "[-0.73908513]\n",
      " message: The solution converged.\n",
      " success: True\n",
      "  status: 1\n",
      "     fun: [ 0.000e+00]\n",
      "       x: [-7.391e-01]\n",
      "    nfev: 9\n",
      "    fjac: [[-1.000e+00]]\n",
      "       r: [-1.674e+00]\n",
      "     qtf: [-2.668e-13]\n"
     ]
    }
   ],
   "source": [
    "from scipy.optimize import root\n",
    "import numpy as np \n",
    "# if we use from math import cos; it will need a scalar value, but scipy.optimize.root() passes an array. It will show warning.\n",
    "\n",
    "def eqn(x):\n",
    "    return x + np.cos(x)\n",
    "\n",
    "rootFn = root(eqn, 0)\n",
    "print(rootFn.x)\n",
    "print(rootFn) # Print all information about the solution (not just x which is the root)"
   ]
  },
  {
   "cell_type": "markdown",
   "id": "6683a9bc",
   "metadata": {},
   "source": [
    "=== Minimizing a Function\n",
    "A function, in this context, represents a curve, curves have high points and low points.\n",
    "\n",
    "High points are called maxima.\n",
    "\n",
    "Low points are called minima.\n",
    "\n",
    "**The highest point in the whole curve is called global maxima**, whereas the rest of them are called local maxima.\n",
    "\n",
    "**The lowest point in whole curve is called global minima**, whereas the rest of them are called local minima."
   ]
  },
  {
   "cell_type": "markdown",
   "id": "abd026e7",
   "metadata": {},
   "source": [
    "Finding Minima\n",
    "We can use **scipy.optimize.minimize()** function to minimize the function.\n",
    "\n",
    "The minimize() function takes the following arguments:\n",
    "\n",
    "fun - a function representing an equation.\n",
    "\n",
    "x0 - an initial guess for the root.\n",
    "\n",
    "method - name of the method to use. Legal values:\n",
    "    'CG'\n",
    "    'BFGS'\n",
    "    'Newton-CG'\n",
    "    'L-BFGS-B'\n",
    "    'TNC'\n",
    "    'COBYLA'\n",
    "    'SLSQP'\n",
    "\n",
    "callback - function called after each iteration of optimization.\n",
    "\n",
    "options - a dictionary defining extra params:\n",
    "\n",
    "{\n",
    "     \"disp\": boolean - print detailed description\n",
    "     \"gtol\": number - the tolerance of the error\n",
    "  }"
   ]
  },
  {
   "cell_type": "code",
   "execution_count": 2,
   "id": "1ee6810a",
   "metadata": {},
   "outputs": [
    {
     "name": "stdout",
     "output_type": "stream",
     "text": [
      "  message: Optimization terminated successfully.\n",
      "  success: True\n",
      "   status: 0\n",
      "      fun: 1.75\n",
      "        x: [-5.000e-01]\n",
      "      nit: 2\n",
      "      jac: [ 0.000e+00]\n",
      " hess_inv: [[ 5.000e-01]]\n",
      "     nfev: 8\n",
      "     njev: 4\n",
      "[-0.49999999]\n"
     ]
    }
   ],
   "source": [
    "# example: \n",
    "# Minimize the function x^2 + x + 2 with BFGS:\n",
    "\n",
    "from scipy.optimize import minimize, root\n",
    "\n",
    "def eqn(x):\n",
    "    return x**2 + x + 2\n",
    "\n",
    "mymin = minimize(eqn, 0, method = 'BFGS')\n",
    "myroot = root(eqn, 0)\n",
    "print(mymin)\n",
    "print(myroot.x)"
   ]
  },
  {
   "cell_type": "markdown",
   "id": "b6ec3d24",
   "metadata": {},
   "source": [
    "=== SciPy Sparse Data\n",
    "Sparse data is data that has mostly unused elements (elements that don't carry any information ).\n",
    "In scientific computing, when we are dealing with partial derivatives in linear algebra we will come across sparse data.\n",
    "\n",
    "\"\"\" Sparse Data: is a data set where most of the item values are zero.\n",
    "Dense Array: is the opposite of a sparse array: most of the values are not zero. \"\"\"\n",
    "\n",
    "How to Work With Sparse Data\n",
    "SciPy has a module, scipy.sparse that provides functions to deal with sparse data.\n",
    "\n",
    "There are primarily two types of sparse matrices that we use:\n",
    "\n",
    "**CSC - Compressed Sparse Column. For efficient arithmetic, fast column slicing.**\n",
    "\n",
    "**CSR - Compressed Sparse Row. For fast row slicing, faster matrix vector products**"
   ]
  },
  {
   "cell_type": "code",
   "execution_count": 13,
   "id": "f46ba61c",
   "metadata": {},
   "outputs": [
    {
     "name": "stdout",
     "output_type": "stream",
     "text": [
      "  (1, 1)\t1\n",
      "  (2, 1)\t1\n",
      "  (2, 2)\t2\n",
      "stored data :  [1 1 2]\n",
      "No. of non-zeros : 3\n"
     ]
    }
   ],
   "source": [
    "\"\"\" CSR Matrix\n",
    "We can create CSR matrix by passing an arrray into function **scipy.sparse.csr_matrix().** \"\"\"\n",
    "\n",
    "## Sparse Matrix Methods\n",
    "\n",
    "import numpy as np\n",
    "from scipy.sparse import csr_matrix\n",
    "\n",
    "arr = np.array([[0, 0, 0], [0, 1, 0], [0, 1, 2]])\n",
    "\n",
    "print(csr_matrix(arr))\n",
    "print('stored data : ', csr_matrix(arr).data) # Viewing stored data (not the zero items) with the data property\n",
    "print('No. of non-zeros :', csr_matrix(arr).count_nonzero())"
   ]
  },
  {
   "cell_type": "code",
   "execution_count": null,
   "id": "294cc39c",
   "metadata": {},
   "outputs": [
    {
     "name": "stdout",
     "output_type": "stream",
     "text": [
      "mat(csr) :\n",
      "   (1, 2)\t1\n",
      "  (2, 0)\t1\n",
      "  (2, 2)\t2\n",
      "newarr(csc) :\n",
      "   (2, 0)\t1\n",
      "  (1, 2)\t1\n",
      "  (2, 2)\t2\n"
     ]
    }
   ],
   "source": [
    "# Removing zero-entries from the matrix with the eliminate_zeros() method:\n",
    "import numpy as np\n",
    "from scipy.sparse import csr_matrix\n",
    "\n",
    "arr = np.array([[0, 0, 0], [0, 0, 1], [1, 0, 2]])\n",
    "mat = csr_matrix(arr)\n",
    "mat.eliminate_zeros()\n",
    "mat.sum_duplicates() # Eliminating duplicates by adding them\n",
    "newarr = csr_matrix(arr).tocsc() # Converting from csr to csc with the tocsc() method\n",
    "print('mat(csr) :\\n',mat)\n",
    "print('newarr(csc) :\\n', newarr)\n",
    "\n",
    "\"\"\" \n",
    "# Note: Apart from the mentioned sparse specific operations, sparse matrices support all of the \n",
    "operations that normal matrices support e.g. reshaping, summing, arithemetic, broadcasting etc. \"\"\""
   ]
  },
  {
   "cell_type": "code",
   "execution_count": 32,
   "id": "bcbf6d45",
   "metadata": {},
   "outputs": [
    {
     "name": "stdout",
     "output_type": "stream",
     "text": [
      "(1, array([0, 0, 0]))\n"
     ]
    }
   ],
   "source": [
    "# SciPy Graphs\n",
    "# SciPy provides us with the module scipy.sparse.csgraph for working with such data structures\n",
    "\n",
    "\"\"\" Adjacency Matrix\n",
    "Adjacency matrix is a nxn matrix where n is the number of elements in a graph.\n",
    "And the values represents the connection between the elements. \"\"\"\n",
    "\n",
    "#      A\n",
    "#     / \\\n",
    "#   1/   \\2\n",
    "#   B     C\n",
    "\n",
    "# For a graph like this, with elements A, B and C, the connections are:\n",
    "# A & B are connected with weight 1.\n",
    "# A & C are connected with weight 2.\n",
    "# C & B is not connected.\n",
    "\n",
    "# The Adjency Matrix :\n",
    "\n",
    "\"\"\"   A B C\n",
    "   A:[0 1 2]  \n",
    "   B:[1 0 0]\n",
    "   C:[2 0 0] \"\"\"\n",
    "\n",
    "import numpy as np\n",
    "from scipy.sparse.csgraph import connected_components \n",
    "from scipy.sparse import csr_matrix\n",
    "\n",
    "arr = np.array([\n",
    "    [0, 1, 2],\n",
    "    [1, 0, 0],\n",
    "    [2, 0, 0]\n",
    "])\n",
    "\n",
    "newarr = csr_matrix(arr)\n",
    "print(connected_components(newarr)) # connected_components(): Finds clusters of connected nodes\n",
    "# Note: Interpretation of Result:  1 connected group, all nodes belong to it"
   ]
  },
  {
   "cell_type": "code",
   "execution_count": null,
   "id": "47aeeb18",
   "metadata": {},
   "outputs": [
    {
     "name": "stdout",
     "output_type": "stream",
     "text": [
      "(array([ 0.,  1., inf]), array([-9999,     0, -9999]))\n"
     ]
    }
   ],
   "source": [
    "\"\"\" Dijkstra (method to find the shortest path in a graph from one element to another) \"\"\"\n",
    "# for ex :  When **Google Maps or a GPS device finds the **fastest route from your home to your office,\n",
    "# it’s running a graph shortest-path algorithm like Dijkstra’s\n",
    "\n",
    "\"\"\" It takes following arguments:\n",
    "\n",
    "return_predecessors: boolean (True to return whole path of traversal otherwise False).\n",
    "indices: index of the element to return all paths from that element only.\n",
    "limit: max weight of path. \"\"\"\n",
    "\n",
    "# Example : Find the shortest path from element 1 to 2:\n",
    "\n",
    "import numpy as np\n",
    "from scipy.sparse.csgraph import dijkstra\n",
    "from scipy.sparse import csr_matrix\n",
    "\n",
    "arr = np.array([\n",
    "  [0, 1, 3],\n",
    "  [1, 0, 4],\n",
    "  [3, 4, 0]\n",
    "])\n",
    "\n",
    "newarr = csr_matrix(arr)\n",
    "dijk = dijkstra(newarr, return_predecessors=True, indices=0, limit=2)\n",
    "print(dijk)\n",
    "# result: inf = “This node cannot be reached within the given distance limit.”"
   ]
  },
  {
   "cell_type": "code",
   "execution_count": null,
   "id": "f732dd76",
   "metadata": {},
   "outputs": [
    {
     "name": "stdout",
     "output_type": "stream",
     "text": [
      "(array([[0., 1., 3.],\n",
      "       [1., 0., 2.],\n",
      "       [3., 2., 0.]]), array([[-9999,     0,     1],\n",
      "       [    1, -9999,     1],\n",
      "       [    1,     2, -9999]]))\n"
     ]
    }
   ],
   "source": [
    "\"\"\" Floyd Warshall\n",
    "Use the floyd_warshall() method to find shortest path between all pairs of elements. \"\"\"\n",
    "\n",
    "import numpy as np\n",
    "from scipy.sparse.csgraph import floyd_warshall\n",
    "from scipy.sparse import csr_matrix\n",
    "\n",
    "arr = np.array([\n",
    "  [0, 1, 10],\n",
    "  [1, 0, 2],\n",
    "  [10, 2, 0]\n",
    "])\n",
    "\n",
    "newarr = csr_matrix(arr)\n",
    "floyd = floyd_warshall(newarr, return_predecessors=True)\n",
    "print(floyd)\n",
    "\n",
    "\"\"\" Result Explanation\n",
    "From 0 → 2:\n",
    "Direct path: 0 → 2 = 10\n",
    "Indirect path: 0 → 1 → 2 = (0→1) + (1→2) = 1 + 2 = 3\n",
    "The indirect path (via node 1) is much shorter. \"\"\""
   ]
  },
  {
   "cell_type": "code",
   "execution_count": null,
   "id": "e2eeee08",
   "metadata": {},
   "outputs": [
    {
     "name": "stdout",
     "output_type": "stream",
     "text": [
      "(array([[ 0., -1.,  1.],\n",
      "       [ 1.,  0.,  2.],\n",
      "       [ 3.,  2.,  0.]]), array([[-9999,     0,     1],\n",
      "       [    1, -9999,     1],\n",
      "       [    1,     2, -9999]]))\n"
     ]
    }
   ],
   "source": [
    "# bellman Ford\n",
    "# The bellman_ford() method can also find the shortest path between all pairs of elements, but this method can handle negative weights as well.\n",
    "\n",
    "import numpy as np\n",
    "from scipy.sparse.csgraph import bellman_ford\n",
    "from scipy.sparse import csr_matrix\n",
    "\n",
    "arr = np.array([\n",
    "  [0, -1, 10],\n",
    "  [1, 0, 2],\n",
    "  [10, 2, 0]\n",
    "])\n",
    "\n",
    "newarr = csr_matrix(arr)\n",
    "bellman = bellman_ford(newarr, return_predecessors=True) # if we give indices=0 here, it will find shortest paths from node 0 to every other node\n",
    "print(bellman)\n"
   ]
  },
  {
   "cell_type": "markdown",
   "id": "bb794033",
   "metadata": {},
   "source": [
    "# SciPy Spatial Data\n",
    "\n",
    "**Spatial data refers to data that is represented in a geometric space.**\n",
    "\n",
    "We deal with spatial data problems on many tasks.\n",
    "\n",
    "E.g. finding if a point is inside a boundary or not.\n",
    "\n",
    "SciPy provides us with the module **scipy.spatial**, which has functions for working with spatial data."
   ]
  },
  {
   "cell_type": "code",
   "execution_count": null,
   "id": "9cbad069",
   "metadata": {},
   "outputs": [
    {
     "data": {
      "image/png": "[encoded data removed]",
      "text/plain": [
       "<Figure size 640x480 with 1 Axes>"
      ]
     },
     "metadata": {},
     "output_type": "display_data"
    }
   ],
   "source": [
    "\"\"\" Triangulation\n",
    "A Triangulation of a polygon is to divide the polygon into multiple triangles with which we can compute an area of the polygon.\n",
    "One method to generate these triangulations through points is the **Delaunay()** Triangulation. \"\"\"\n",
    "import numpy as np\n",
    "from scipy.spatial import Delaunay\n",
    "import matplotlib.pyplot as plt\n",
    "\n",
    "points = np.array([\n",
    "  [2, 4],\n",
    "  [3, 4],\n",
    "  [3, 0],\n",
    "  [2, 2],\n",
    "  [4, 1]\n",
    "])\n",
    "\n",
    "triangulate = Delaunay(points).simplices\n",
    "\n",
    "plt.triplot(points[:, 0], points[:, 1], triangulate)\n",
    "plt.scatter(points[:, 0], points[:, 1], color='g')\n",
    "\n",
    "plt.show()\n",
    "#Note: The simplices property creates a generalization of the triangle notation.\n"
   ]
  },
  {
   "cell_type": "code",
   "execution_count": 56,
   "id": "0c12a1d0",
   "metadata": {},
   "outputs": [
    {
     "data": {
      "image/png": "[encoded data removed]",
      "text/plain": [
       "<Figure size 640x480 with 1 Axes>"
      ]
     },
     "metadata": {},
     "output_type": "display_data"
    }
   ],
   "source": [
    "\"\"\" Convex Hull\n",
    "A convex hull is the smallest polygon that covers all of the given points.\n",
    "\n",
    "Use the ConvexHull() method to create a Convex Hull. \"\"\"\n",
    "\n",
    "import numpy as np\n",
    "from scipy.spatial import ConvexHull\n",
    "import matplotlib.pyplot as plt\n",
    "\n",
    "points = np.array([\n",
    "  [2, 4],\n",
    "  [3, 4],\n",
    "  [3, 0],\n",
    "  [2, 2],\n",
    "  [4, 1],\n",
    "  [1, 2],\n",
    "  [5, 0],\n",
    "  [3, 1],\n",
    "  [1, 2],\n",
    "  [0, 2]\n",
    "])\n",
    "\n",
    "hull = ConvexHull(points)\n",
    "hull_points = hull.simplices\n",
    "\n",
    "plt.scatter(points[:,0], points[:,1])\n",
    "for simplex in hull_points:\n",
    "  plt.plot(points[simplex,0], points[simplex,1], 'k-')\n",
    "\n",
    "plt.show()"
   ]
  },
  {
   "cell_type": "code",
   "execution_count": 64,
   "id": "c6b1292f",
   "metadata": {},
   "outputs": [
    {
     "name": "stdout",
     "output_type": "stream",
     "text": [
      "(2.0, 0)\n"
     ]
    }
   ],
   "source": [
    "\"\"\" # KDTrees\n",
    "KDTrees are a datastructure optimized for nearest neighbor queries.\n",
    "\n",
    "E.g. in a set of points using KDTrees we can efficiently ask which points are nearest to a certain given point.\n",
    "\n",
    "The KDTree() method returns a KDTree object.\n",
    "\n",
    "The query() method returns the distance to the nearest neighbor and the location of the neighbors. \"\"\"\n",
    "\n",
    "from scipy.spatial import KDTree\n",
    "points = [(1, -1), (2, 3), (-2, 3), (2, -3)]\n",
    "kdtree = KDTree(points)\n",
    "res = kdtree.query((1,1))\n",
    "print(res)\n",
    "\n",
    "# Result: (2.0, 0) Meaning: 2.0 → the shortest distance; 0 → the index of the nearest point in your list"
   ]
  },
  {
   "cell_type": "markdown",
   "id": "e99c922f",
   "metadata": {},
   "source": [
    "# Distance Matrix\n",
    "\n",
    "There are many Distance Metrics used to find various types of distances between two points in data science, Euclidean distsance, cosine distsance etc.\n",
    "\n",
    "The distance between two vectors may not only be the length of straight line between them, it can also be the angle between them from origin, or number of unit steps required etc.\n",
    "\n",
    "Many of the Machine Learning algorithm's performance depends greatly on distance metrices. E.g. \"K Nearest Neighbors\", or \"K Means\" etc."
   ]
  },
  {
   "cell_type": "code",
   "execution_count": 67,
   "id": "3b2647ed",
   "metadata": {},
   "outputs": [
    {
     "name": "stdout",
     "output_type": "stream",
     "text": [
      "5.0\n"
     ]
    }
   ],
   "source": [
    "# Euclidean Distance\n",
    "# Find the euclidean distance between given points.\n",
    "\n",
    "from scipy.spatial.distance import euclidean\n",
    "\n",
    "p1 = (0, 0)\n",
    "p2 = (3, 4)\n",
    "\n",
    "res = euclidean(p1, p2)\n",
    "\n",
    "print(res)"
   ]
  },
  {
   "cell_type": "code",
   "execution_count": 68,
   "id": "42300759",
   "metadata": {},
   "outputs": [
    {
     "name": "stdout",
     "output_type": "stream",
     "text": [
      "7\n"
     ]
    }
   ],
   "source": [
    "\"\"\" Cityblock Distance (Manhattan Distance)\n",
    "Is the distance computed using 4 degrees of movement.\n",
    "\n",
    "E.g. we can only move: up, down, right, or left, not diagonally. \"\"\"\n",
    "\n",
    "from scipy.spatial.distance import cityblock\n",
    "\n",
    "p1 = (0, 0)\n",
    "p2 = (3, 4)\n",
    "\n",
    "res = cityblock(p1, p2)\n",
    "\n",
    "print(res)"
   ]
  },
  {
   "cell_type": "code",
   "execution_count": 73,
   "id": "95a42042",
   "metadata": {},
   "outputs": [
    {
     "name": "stdout",
     "output_type": "stream",
     "text": [
      "0.4\n"
     ]
    }
   ],
   "source": [
    "\"\"\" Cosine Distance\n",
    "Is the value of cosine angle between the two points A and B. \"\"\"\n",
    "\n",
    "from scipy.spatial.distance import cosine\n",
    "\n",
    "p1 = (3, 4)\n",
    "p2 = (3, 0)\n",
    "\n",
    "res = cosine(p1, p2)\n",
    "\n",
    "print(res)"
   ]
  },
  {
   "cell_type": "code",
   "execution_count": 74,
   "id": "7d7ba854",
   "metadata": {},
   "outputs": [
    {
     "name": "stdout",
     "output_type": "stream",
     "text": [
      "0.6666666666666666\n"
     ]
    }
   ],
   "source": [
    "\"\"\" Hamming Distance\n",
    "Is the proportion of bits where two bits are different.\n",
    "\n",
    "It's a way to measure distance for binary sequences. \"\"\"\n",
    "\n",
    "from scipy.spatial.distance import hamming\n",
    "\n",
    "p1 = (True, False, True)\n",
    "p2 = (False, True, True)\n",
    "\n",
    "res = hamming(p1, p2)\n",
    "\n",
    "print(res)"
   ]
  },
  {
   "cell_type": "markdown",
   "id": "5d5b287a",
   "metadata": {},
   "source": [
    "# Working With Matlab Arrays\n",
    "\n",
    "NumPy provides us with methods to persist the data in readable formats for Python. But SciPy provides us with interoperability with Matlab as well.\n",
    "\n",
    "SciPy provides us with the module **scipy.io**, which has functions for working with Matlab arrays.\n"
   ]
  },
  {
   "cell_type": "code",
   "execution_count": 81,
   "id": "9a385561",
   "metadata": {},
   "outputs": [
    {
     "name": "stdout",
     "output_type": "stream",
     "text": [
      "{'__header__': b'MATLAB 5.0 MAT-file Platform: nt, Created on: Sat Oct 11 22:13:17 2025', '__version__': '1.0', '__globals__': [], 'vec': array([[0, 1, 2, 3, 4, 5, 6, 7, 8, 9]])}\n",
      "[[0 1 2 3 4 5 6 7 8 9]]\n"
     ]
    }
   ],
   "source": [
    "\"\"\" Exporting Data in Matlab Format\n",
    "The savemat() function allows us to export data in Matlab format.\n",
    "\n",
    "The method takes the following parameters:\n",
    "\n",
    "filename - the file name for saving data.\n",
    "mdict - a dictionary containing the data.\n",
    "do_compression - a boolean value that specifies whether to compress the result or not. Default False. \"\"\"\n",
    "\n",
    "# Example: Export some array as variable name \"vec\" to a mat file:\n",
    "\n",
    "from scipy import io\n",
    "import numpy as np\n",
    "\n",
    "arr = np.arange(10)\n",
    "\n",
    "# Exporting\n",
    "io.savemat('array.mat', {\"vec\": arr})\n",
    "# It saves a file name \"arr.mat\" on your computer\n",
    "\n",
    "# Importing\n",
    "mydata = io.loadmat('array.mat')\n",
    "print(mydata)\n",
    "print(mydata['vec']) # to display only the array from the matlab data\n"
   ]
  },
  {
   "cell_type": "code",
   "execution_count": 83,
   "id": "2da0d0a4",
   "metadata": {},
   "outputs": [
    {
     "name": "stdout",
     "output_type": "stream",
     "text": [
      "[0 1 2 3 4 5 6 7 8 9]\n"
     ]
    }
   ],
   "source": [
    "# Note: We can see that the array originally was 1D, but on extraction it has increased one dimension.\n",
    "mydata = io.loadmat('array.mat', squeeze_me=True)\n",
    "\n",
    "print(mydata['vec'])\n"
   ]
  },
  {
   "cell_type": "markdown",
   "id": "a8ec8802",
   "metadata": {},
   "source": [
    "# SciPy Interpolation\n",
    "\n",
    "What is Interpolation?\n",
    "Interpolation is a method for generating points between given points.\n",
    "\n",
    "For example: for points 1 and 2, we may interpolate and find points 1.33 and 1.66.\n",
    "\n",
    "Interpolation has many usage, in Machine Learning we often deal with missing data in a dataset, interpolation is often used to substitute those values.\n",
    "\n",
    "This method of filling values is called **imputation**.\n",
    "\n",
    "Apart from imputation, interpolation is often used where we need to smooth the discrete points in a dataset.\n",
    "\n",
    "SciPy provides us with a module called **scipy.interpolate** which has many functions to deal with interpolation:\n"
   ]
  },
  {
   "cell_type": "code",
   "execution_count": null,
   "id": "e224fe70",
   "metadata": {},
   "outputs": [
    {
     "name": "stdout",
     "output_type": "stream",
     "text": [
      "new1 : 6.0\n",
      "new2 : [5.2 5.3 5.4 5.5 5.6 5.7 5.8 5.9 6.  6.1 6.2 6.3 6.4 6.5 6.6 6.7 6.8 6.9]\n"
     ]
    }
   ],
   "source": [
    "\"\"\" 1D Interpolation\n",
    "The function interp1d() is used to interpolate a distribution with 1 variable.\n",
    "\n",
    "It takes x and y points and returns a callable function that can be called with new x and returns corresponding y.\n",
    "\"\"\"\n",
    "\n",
    "from scipy.interpolate import interp1d\n",
    "import numpy as np\n",
    "\n",
    "x = np.arange(10)\n",
    "y = 2*x + 1\n",
    "\n",
    "intp_fn = interp1d(x, y) # Make a function that can fill in missing values between x and y.\n",
    "new1 = intp_fn(2.5) # Estimate what y would be if x=2.5, based on nearby points.\n",
    "new2 = intp_fn(np.arange(2.1, 3, 0.05))\n",
    "print('new1 :', new1)\n",
    "print('new2 :', new2)\n",
    "\n",
    "# Note: that new x should be in same range as of the old x, meaning that we can't call interp_func() with values higher than 10, or less than 0.\n"
   ]
  },
  {
   "cell_type": "code",
   "execution_count": null,
   "id": "7e8382a0",
   "metadata": {},
   "outputs": [
    {
     "name": "stdout",
     "output_type": "stream",
     "text": [
      "[5.62826474 5.83159227 6.03987348 6.25311412 6.47131994 6.69449671\n",
      " 6.92265019 7.15578613 7.3939103  7.63702845 7.88514634 8.13826974\n",
      " 8.39640439 8.65955607 8.92773053 9.20093353 9.47917082 9.76244817]\n"
     ]
    }
   ],
   "source": [
    "\"\"\" Spline Interpolation\n",
    "In 1D interpolation the points are fitted for a single curve whereas in Spline interpolation the points are fitted against a piecewise function defined with polynomials called splines.\n",
    "\n",
    "The UnivariateSpline() function takes x and y and produce a callable funciton that can be called with new x.\n",
    " \"\"\"\n",
    "\n",
    "# Piecewise function: A function that has different definition for different ranges.\n",
    "\n",
    "# Example: Find univariate spline interpolation for 2.1, 2.2... 2.9 for the following non linear points:\n",
    "\n",
    "import numpy as np\n",
    "from scipy.interpolate import UnivariateSpline\n",
    "\n",
    "x = np.arange(10)\n",
    "y = x**2 + np.sin(x) + 1\n",
    "\n",
    "intp_fn = UnivariateSpline(x, y)\n",
    "new = intp_fn(np.arange(2.1, 3, 0.05))\n",
    "print(new)\n"
   ]
  },
  {
   "cell_type": "code",
   "execution_count": 91,
   "id": "ab4162f7",
   "metadata": {},
   "outputs": [
    {
     "name": "stdout",
     "output_type": "stream",
     "text": [
      "[6.25748981 6.62190817 7.00310702 7.40121814 7.8161443  8.24773402\n",
      " 8.69590519 9.16070828 9.64233874]\n"
     ]
    }
   ],
   "source": [
    "\"\"\" Interpolation with Radial Basis Function\n",
    "Radial basis function is a function that is defined corresponding to a fixed reference point.\n",
    "\n",
    "The Rbf() function also takes xs and ys as arguments and produces a callable function that can be called with new xs. \"\"\"\n",
    "\n",
    "from scipy.interpolate import Rbf\n",
    "import numpy as np\n",
    "\n",
    "x = np.arange(10)\n",
    "y = x**2 + np.sin(x) + 1\n",
    "\n",
    "intp_fn = Rbf(x, y)\n",
    "new = intp_fn(np.arange(2.1, 3, 0.1))\n",
    "\n",
    "print(new)"
   ]
  }
 ],
 "metadata": {
  "kernelspec": {
   "display_name": "base",
   "language": "python",
   "name": "python3"
  },
  "language_info": {
   "codemirror_mode": {
    "name": "ipython",
    "version": 3
   },
   "file_extension": ".py",
   "mimetype": "text/x-python",
   "name": "python",
   "nbconvert_exporter": "python",
   "pygments_lexer": "ipython3",
   "version": "3.11.7"
  }
 },
 "nbformat": 4,
 "nbformat_minor": 5
}
