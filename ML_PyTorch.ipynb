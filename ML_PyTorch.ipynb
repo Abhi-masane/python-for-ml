{
 "cells": [
  {
   "cell_type": "code",
   "execution_count": 2,
   "id": "b0dbdc98",
   "metadata": {},
   "outputs": [
    {
     "data": {
      "text/plain": [
       "'2.7.1+cpu'"
      ]
     },
     "execution_count": 2,
     "metadata": {},
     "output_type": "execute_result"
    }
   ],
   "source": [
    "import torch\n",
    "torch.__version__"
   ]
  },
  {
   "cell_type": "markdown",
   "id": "eded9aa3",
   "metadata": {},
   "source": [
    "- PyTorch\n",
    "\n",
    "- PyTorch is an open source machine learning and deep learning framework.\n",
    "- PyTorch allows you to manipulate and process data and write machine learning algorithms using Python code.\n",
    "\n",
    "-# Introduction to tensors\n",
    "\n",
    "Tensors are the fundamental building block of machine learning.\n",
    "It writes data in numerical way.\n",
    "\n",
    "Scalar : zero dimension tensor"
   ]
  },
  {
   "cell_type": "code",
   "execution_count": 14,
   "id": "de25fd65",
   "metadata": {},
   "outputs": [
    {
     "name": "stdout",
     "output_type": "stream",
     "text": [
      "scalar tensor(5)\n",
      "0\n",
      "Retrieved no. from tensor : 5\n",
      "vector: tensor([2, 5])\n",
      "1\n",
      "shape: torch.Size([2])\n"
     ]
    }
   ],
   "source": [
    "scalar = torch.tensor(5)\n",
    "print('scalar', scalar)\n",
    "print(scalar.ndim) # prints the dimensions of a tensor; ndim()\n",
    "\n",
    "# Retrieve number from Tensor item()\n",
    "print('Retrieved no. from tensor :', scalar.item())\n",
    "\n",
    "# A vector is a single dimension tensor but can contain many numbers.\n",
    "vector = torch.tensor([2,5])\n",
    "print('vector:', vector)\n",
    "print(vector.ndim)\n",
    "\n",
    "# Shape of Vector\n",
    "print('shape:', vector.shape)"
   ]
  },
  {
   "cell_type": "code",
   "execution_count": null,
   "id": "c6c2cbf7",
   "metadata": {},
   "outputs": [
    {
     "name": "stdout",
     "output_type": "stream",
     "text": [
      "tensor([[[7, 6, 3],\n",
      "         [3, 5, 1],\n",
      "         [2, 8, 5]]])\n",
      "dimension: 3\n",
      "torch.Size([1, 3, 3])\n"
     ]
    }
   ],
   "source": [
    "# Tensor\n",
    "Tensor = torch.tensor([[[7, 6, 3],\n",
    "                        [3, 5, 1],\n",
    "                        [2, 8, 5]]]) # 3d Tensor\n",
    "\n",
    "\"\"\" Tensor = torch.tensor([[7, 6, 3],\n",
    "                        [3, 5, 1],\n",
    "                        [2, 8, 5]]) #2D Tensor \"\"\"\n",
    "\n",
    "print(Tensor)\n",
    "# Trick: use the square bracket on the outside of one side counting trick \n",
    "print('dimension:', Tensor.ndim)\n",
    "print(Tensor.shape) # The dimensions go outer to inner"
   ]
  },
  {
   "cell_type": "markdown",
   "id": "8000cfe6",
   "metadata": {},
   "source": [
    "Some Notes:\n",
    "\n",
    "- ML models such as neural networks manipulate and seek patterns within tensors.\n",
    "- When building ML models with PyTorch, it's rare we'll create tensors by hand\n",
    "- Instead, a machine learning model often starts out with large random tensors of numbers and adjusts these random numbers as it works through data to better represent it.\n",
    "-\n",
    "\n",
    "**Start with random numbers -> look at data -> update random numbers -> look at data -> update random numbers...**\n",
    "\n",
    "As a data scientist, you can define how the machine learning model starts (initialization), looks at data (representation) and updates (optimization) its random numbers.\n",
    "\n"
   ]
  },
  {
   "cell_type": "code",
   "execution_count": 22,
   "id": "35ccfbed",
   "metadata": {},
   "outputs": [
    {
     "data": {
      "text/plain": [
       "(tensor([[0.2179, 0.4869, 0.0500, 0.7345],\n",
       "         [0.6402, 0.1215, 0.1211, 0.8675],\n",
       "         [0.8624, 0.4604, 0.9976, 0.1926]]),\n",
       " torch.float32)"
      ]
     },
     "execution_count": 22,
     "metadata": {},
     "output_type": "execute_result"
    }
   ],
   "source": [
    "# Create a tensor of random numbers\n",
    "\n",
    "random_tensor = torch.rand(size=(3,4))\n",
    "random_tensor, random_tensor.dtype"
   ]
  },
  {
   "cell_type": "code",
   "execution_count": 27,
   "id": "08f37213",
   "metadata": {},
   "outputs": [
    {
     "name": "stdout",
     "output_type": "stream",
     "text": [
      "tensor([[0., 0., 0., 0.],\n",
      "        [0., 0., 0., 0.],\n",
      "        [0., 0., 0., 0.]])\n",
      "torch.float32\n",
      "tensor([[1., 1., 1., 1.],\n",
      "        [1., 1., 1., 1.],\n",
      "        [1., 1., 1., 1.]])\n",
      "torch.float32\n"
     ]
    }
   ],
   "source": [
    "# Zeros and ones\n",
    "\n",
    "zeros = torch.zeros(size=(3,4))\n",
    "print(zeros)\n",
    "print(zeros.dtype)\n",
    "\n",
    "ones = torch.ones(size=(3,4))\n",
    "print(ones)\n",
    "print(ones.dtype)"
   ]
  },
  {
   "cell_type": "code",
   "execution_count": 29,
   "id": "4c309a43",
   "metadata": {},
   "outputs": [
    {
     "data": {
      "text/plain": [
       "tensor([0, 1, 2, 3, 4, 5, 6, 7, 8, 9])"
      ]
     },
     "execution_count": 29,
     "metadata": {},
     "output_type": "execute_result"
    }
   ],
   "source": [
    "# Creating a range and tensors like\n",
    "# torch.arange(start, end, step)\n",
    "\n",
    "# Create a range of values 0 to 10\n",
    "range = torch.arange(start=0, end=10, step=1)\n",
    "range\n"
   ]
  },
  {
   "cell_type": "code",
   "execution_count": 30,
   "id": "9ac1c53b",
   "metadata": {},
   "outputs": [
    {
     "data": {
      "text/plain": [
       "tensor([0, 0, 0, 0, 0, 0, 0, 0, 0, 0])"
      ]
     },
     "execution_count": 30,
     "metadata": {},
     "output_type": "execute_result"
    }
   ],
   "source": [
    "\"\"\" Sometimes you might want one tensor of a certain type with the same shape as another tensor.\n",
    "For example, a tensor of all zeros with the same shape as a previous tensor.\n",
    "To do so you can use torch.zeros_like(input) or torch.ones_like(input) which return a tensor filled with zeros or ones in the same shape as the input respectively. \n",
    "\"\"\"\n",
    "\n",
    "# Can also create a tensor of zeros similar to another tensor\n",
    "ten_zeros = torch.zeros_like(input=range) # will have same shape\n",
    "ten_zeros"
   ]
  },
  {
   "cell_type": "code",
   "execution_count": null,
   "id": "3960a859",
   "metadata": {},
   "outputs": [],
   "source": []
  }
 ],
 "metadata": {
  "kernelspec": {
   "display_name": "base",
   "language": "python",
   "name": "python3"
  },
  "language_info": {
   "codemirror_mode": {
    "name": "ipython",
    "version": 3
   },
   "file_extension": ".py",
   "mimetype": "text/x-python",
   "name": "python",
   "nbconvert_exporter": "python",
   "pygments_lexer": "ipython3",
   "version": "3.11.7"
  }
 },
 "nbformat": 4,
 "nbformat_minor": 5
}
