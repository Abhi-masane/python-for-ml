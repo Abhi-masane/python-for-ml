{
 "cells": [
  {
   "cell_type": "code",
   "execution_count": 23,
   "id": "b0dbdc98",
   "metadata": {},
   "outputs": [
    {
     "data": {
      "text/plain": [
       "'2.7.1+cpu'"
      ]
     },
     "execution_count": 23,
     "metadata": {},
     "output_type": "execute_result"
    }
   ],
   "source": [
    "import torch\n",
    "torch.__version__"
   ]
  },
  {
   "cell_type": "markdown",
   "id": "eded9aa3",
   "metadata": {},
   "source": [
    "- PyTorch\n",
    "\n",
    "- PyTorch is an open source machine learning and deep learning framework.\n",
    "- PyTorch allows you to manipulate and process data and write machine learning algorithms using Python code.\n",
    "\n",
    "-# Introduction to tensors\n",
    "\n",
    "Tensors are the fundamental building block of machine learning.\n",
    "It writes data in numerical way.\n",
    "\n",
    "Scalar : zero dimension tensor"
   ]
  },
  {
   "cell_type": "code",
   "execution_count": 24,
   "id": "de25fd65",
   "metadata": {},
   "outputs": [
    {
     "name": "stdout",
     "output_type": "stream",
     "text": [
      "scalar tensor(5)\n",
      "0\n",
      "Retrieved no. from tensor : 5\n",
      "vector: tensor([2, 5])\n",
      "1\n",
      "shape: torch.Size([2])\n"
     ]
    }
   ],
   "source": [
    "scalar = torch.tensor(5)\n",
    "print('scalar', scalar)\n",
    "print(scalar.ndim) # prints the dimensions of a tensor; ndim()\n",
    "\n",
    "# Retrieve number from Tensor item()\n",
    "print('Retrieved no. from tensor :', scalar.item())\n",
    "\n",
    "# A vector is a single dimension tensor but can contain many numbers.\n",
    "vector = torch.tensor([2,5])\n",
    "print('vector:', vector)\n",
    "print(vector.ndim)\n",
    "\n",
    "# Shape of Vector\n",
    "print('shape:', vector.shape)"
   ]
  },
  {
   "cell_type": "code",
   "execution_count": 25,
   "id": "c6c2cbf7",
   "metadata": {},
   "outputs": [
    {
     "name": "stdout",
     "output_type": "stream",
     "text": [
      "tensor([[[7, 6, 3],\n",
      "         [3, 5, 1],\n",
      "         [2, 8, 5]]])\n",
      "dimension: 3\n",
      "torch.Size([1, 3, 3])\n"
     ]
    }
   ],
   "source": [
    "# Tensor\n",
    "Tensor = torch.tensor([[[7, 6, 3],\n",
    "                        [3, 5, 1],\n",
    "                        [2, 8, 5]]]) # 3d Tensor\n",
    "\n",
    "\"\"\" Tensor = torch.tensor([[7, 6, 3],\n",
    "                        [3, 5, 1],\n",
    "                        [2, 8, 5]]) #2D Tensor \"\"\"\n",
    "\n",
    "print(Tensor)\n",
    "# Trick: use the square bracket on the outside of one side counting trick \n",
    "print('dimension:', Tensor.ndim)\n",
    "print(Tensor.shape) # The dimensions go outer to inner"
   ]
  },
  {
   "cell_type": "markdown",
   "id": "8000cfe6",
   "metadata": {},
   "source": [
    "Some Notes:\n",
    "\n",
    "- ML models such as neural networks manipulate and seek patterns within tensors.\n",
    "- When building ML models with PyTorch, it's rare we'll create tensors by hand\n",
    "- Instead, a machine learning model often starts out with large random tensors of numbers and adjusts these random numbers as it works through data to better represent it.\n",
    "-\n",
    "\n",
    "**Start with random numbers -> look at data -> update random numbers -> look at data -> update random numbers...**\n",
    "\n",
    "As a data scientist, you can define how the machine learning model starts (initialization), looks at data (representation) and updates (optimization) its random numbers.\n",
    "\n"
   ]
  },
  {
   "cell_type": "code",
   "execution_count": 26,
   "id": "35ccfbed",
   "metadata": {},
   "outputs": [
    {
     "data": {
      "text/plain": [
       "(tensor([[0.9841, 0.8126, 0.2846, 0.3117],\n",
       "         [0.1373, 0.8890, 0.0596, 0.9922],\n",
       "         [0.2614, 0.5333, 0.1984, 0.5145]]),\n",
       " torch.float32)"
      ]
     },
     "execution_count": 26,
     "metadata": {},
     "output_type": "execute_result"
    }
   ],
   "source": [
    "# Create a tensor of random numbers\n",
    "\n",
    "random_tensor = torch.rand(size=(3,4))\n",
    "random_tensor, random_tensor.dtype"
   ]
  },
  {
   "cell_type": "code",
   "execution_count": 27,
   "id": "08f37213",
   "metadata": {},
   "outputs": [
    {
     "name": "stdout",
     "output_type": "stream",
     "text": [
      "tensor([[0., 0., 0., 0.],\n",
      "        [0., 0., 0., 0.],\n",
      "        [0., 0., 0., 0.]])\n",
      "torch.float32\n",
      "tensor([[1., 1., 1., 1.],\n",
      "        [1., 1., 1., 1.],\n",
      "        [1., 1., 1., 1.]])\n",
      "torch.float32\n"
     ]
    }
   ],
   "source": [
    "# Zeros and ones\n",
    "\n",
    "zeros = torch.zeros(size=(3,4))\n",
    "print(zeros)\n",
    "print(zeros.dtype)\n",
    "\n",
    "ones = torch.ones(size=(3,4))\n",
    "print(ones)\n",
    "print(ones.dtype)"
   ]
  },
  {
   "cell_type": "code",
   "execution_count": 28,
   "id": "4c309a43",
   "metadata": {},
   "outputs": [
    {
     "data": {
      "text/plain": [
       "tensor([0, 1, 2, 3, 4, 5, 6, 7, 8, 9])"
      ]
     },
     "execution_count": 28,
     "metadata": {},
     "output_type": "execute_result"
    }
   ],
   "source": [
    "# Creating a range and tensors like\n",
    "# torch.arange(start, end, step)\n",
    "\n",
    "# Create a range of values 0 to 10\n",
    "range = torch.arange(start=0, end=10, step=1)\n",
    "range\n"
   ]
  },
  {
   "cell_type": "code",
   "execution_count": 29,
   "id": "9ac1c53b",
   "metadata": {},
   "outputs": [
    {
     "data": {
      "text/plain": [
       "tensor([0, 0, 0, 0, 0, 0, 0, 0, 0, 0])"
      ]
     },
     "execution_count": 29,
     "metadata": {},
     "output_type": "execute_result"
    }
   ],
   "source": [
    "\"\"\" Sometimes you might want one tensor of a certain type with the same shape as another tensor.\n",
    "For example, a tensor of all zeros with the same shape as a previous tensor.\n",
    "To do so you can use torch.zeros_like(input) or torch.ones_like(input) which return a tensor filled with zeros or ones in the same shape as the input respectively. \n",
    "\"\"\"\n",
    "\n",
    "# Can also create a tensor of zeros similar to another tensor\n",
    "similar = torch.zeros_like(input=range) # will have same shape\n",
    "similar"
   ]
  },
  {
   "cell_type": "markdown",
   "id": "3960a859",
   "metadata": {},
   "source": [
    "# Tensor datatypes\n",
    "\n",
    "- There are many different tensor datatypes available in PyTorch. Some are specific for CPU and some are better for GPU.\n",
    "\n",
    "- Generally if you see torch.cuda anywhere, the tensor is being used for GPU (since Nvidia GPUs use a computing toolkit called CUDA).\n",
    "\n",
    "- The most common type (and generally the default) is torch.float32 or torch.float. This is referred to as \"32-bit floating point\".\n",
    "\n",
    "- But there's also 16-bit floating point (torch.float16 or torch.half) and 64-bit floating point (torch.float64 or torch.double).\n",
    "\n",
    "- Lower precision datatypes are generally faster to compute on but sacrifice some performance on evaluation metrics like accuracy (faster to compute but less accurate)\n",
    "\n"
   ]
  },
  {
   "cell_type": "code",
   "execution_count": 30,
   "id": "2f104086",
   "metadata": {},
   "outputs": [
    {
     "data": {
      "text/plain": [
       "(torch.Size([3]), torch.float32, device(type='cpu'))"
      ]
     },
     "execution_count": 30,
     "metadata": {},
     "output_type": "execute_result"
    }
   ],
   "source": [
    "# Default datatype for tensors is float32\n",
    "float_32_tensor = torch.tensor([3.0, 6.0, 9.0],\n",
    "                               dtype=None, # defaults to None, which is torch.float32 or whatever datatype is passed\n",
    "                               device=None, # defaults to None, which uses the default tensor type\n",
    "                               requires_grad=False) # if True, operations performed on the tensor are recorded \n",
    "\n",
    "float_32_tensor.shape, float_32_tensor.dtype, float_32_tensor.device"
   ]
  },
  {
   "cell_type": "code",
   "execution_count": 31,
   "id": "1a613304",
   "metadata": {},
   "outputs": [
    {
     "data": {
      "text/plain": [
       "torch.float16"
      ]
     },
     "execution_count": 31,
     "metadata": {},
     "output_type": "execute_result"
    }
   ],
   "source": [
    "\"\"\" Aside from shape issues (tensor shapes don't match up), two of the other most common issues we'll come across in PyTorch are datatype and device issues.\n",
    "For example, one of tensors is torch.float32 and the other is torch.float16 (PyTorch often likes tensors to be the same format).\n",
    "Or one of your tensors is on the CPU and the other is on the GPU (PyTorch likes calculations between tensors to be on the same device). \n",
    "\"\"\"\n",
    "# dtype=torch.float16\n",
    "float_16_tensor = torch.tensor([3.0, 6.0, 9.0],\n",
    "                               dtype=torch.float16) # torch.half would also work\n",
    "\n",
    "float_16_tensor.dtype"
   ]
  },
  {
   "cell_type": "code",
   "execution_count": 32,
   "id": "c768a480",
   "metadata": {},
   "outputs": [
    {
     "name": "stdout",
     "output_type": "stream",
     "text": [
      "tensor([[0.2255, 0.3607, 0.7198, 0.8185],\n",
      "        [0.9351, 0.3992, 0.9038, 0.4590],\n",
      "        [0.8850, 0.4437, 0.2538, 0.5303]])\n",
      "Shape of tensor: torch.Size([3, 4])\n",
      "Datatype of tensor: torch.float32\n",
      "Device tensor is stored on: cpu\n"
     ]
    }
   ],
   "source": [
    "# Getting information from tensors\n",
    "# Create a tensor\n",
    "some_tensor = torch.rand(3, 4)\n",
    "\n",
    "# Find out details about it\n",
    "print(some_tensor)\n",
    "print(f\"Shape of tensor: {some_tensor.shape}\")\n",
    "print(f\"Datatype of tensor: {some_tensor.dtype}\")\n",
    "print(f\"Device tensor is stored on: {some_tensor.device}\") # will default to CPU\n",
    "\n",
    "# Note: When you encounter errors...do this --> \"what shape are my tensors? what datatype are \n",
    "# they and where are they stored? what shape, what datatype, where where where\""
   ]
  },
  {
   "cell_type": "markdown",
   "id": "4e90b5f9",
   "metadata": {},
   "source": [
    "## Manipulating Tensors\n",
    "\n",
    "In deep learning, data (images, text, video, audio, protein structures, etc) gets represented as tensors.\n",
    "\n",
    "A model learns by investigating those tensors and performing a series of operations (could be 1,000,000s+) on tensors to create a representation of the patterns in the input data.\n",
    "\n",
    "These operations are often a wonderful dance between:\n",
    "\n",
    "Addition,\n",
    "Substraction,\n",
    "Multiplication (element-wise),\n",
    "Division,\n",
    "Matrix multiplication,\n",
    "And that's it. Sure there are a few more here and there but these are the basic building blocks of neural networks.\n",
    "\n",
    "Stacking these building blocks in the right way, you can create the most sophisticated of neural networks (just like lego!)"
   ]
  },
  {
   "cell_type": "code",
   "execution_count": 33,
   "id": "4802353a",
   "metadata": {},
   "outputs": [
    {
     "name": "stdout",
     "output_type": "stream",
     "text": [
      "tensor([101, 102, 103])\n",
      "tensor([100, 200, 300])\n",
      "tensor([0.0100, 0.0200, 0.0300])\n",
      "tensor([-99, -98, -97])\n"
     ]
    }
   ],
   "source": [
    "tensor = torch.tensor([1, 2, 3])\n",
    "print(tensor + 100)\n",
    "print(tensor * 100) # it's more common to use the operator symbols like * instead of torch.mul()\n",
    "print(tensor / 100)\n",
    "print(tensor - 100)\n",
    "# original tensor will be unchanged"
   ]
  },
  {
   "cell_type": "markdown",
   "id": "882c523d",
   "metadata": {},
   "source": [
    "### Matrix multiplication (is all you need)\n",
    "One of the most common operations in machine learning and deep learning algorithms (like neural networks) is matrix multiplication.\n",
    "\n",
    "- PyTorch implements matrix multiplication functionality in the **torch.matmul()** method.\n",
    "\n",
    "- The main two rules for matrix multiplication to remember are:\n",
    "\n",
    "- The inner dimensions must match:\n",
    "\n",
    "        (3, 2) @ (3, 2) won't work\n",
    "\n",
    "        (2, 3) @ (3, 2) will work\n",
    "\n",
    "        (3, 2) @ (2, 3) will work\n",
    "\n",
    "- The resulting matrix has the shape of the outer dimensions:\n",
    "\n",
    "        (2, 3) @ (3, 2) -> (2, 2)\n",
    "\n",
    "        (3, 2) @ (2, 3) -> (3, 3)\n",
    "\n",
    "- Note: \"@\" in Python is the symbol for **matrix multiplication**."
   ]
  },
  {
   "cell_type": "code",
   "execution_count": 34,
   "id": "8307387e",
   "metadata": {},
   "outputs": [
    {
     "name": "stdout",
     "output_type": "stream",
     "text": [
      "torch.Size([3])\n",
      "Element-wise multiplication (tensor * tensor): tensor([1, 4, 9])\n",
      "Matrix multiplication (tensor.matmul(tensor)): tensor(14)\n"
     ]
    }
   ],
   "source": [
    "import torch\n",
    "tensor = torch.tensor([1, 2, 3])\n",
    "print(tensor.shape)\n",
    "print('Element-wise multiplication (tensor * tensor):', tensor*tensor)\n",
    "print('Matrix multiplication (tensor.matmul(tensor)):', tensor.matmul(tensor)) # torch.matmul(tensor, tensor)\n",
    "#torch.matmul(tensor, tensor)\n",
    "# tensor @ tensor # not recommended\n",
    "# Note: The difference between element-wise multiplication and matrix multiplication is the addition of values.\n",
    "# The in-built torch.matmul() method is faster instead of doing by hand"
   ]
  },
  {
   "cell_type": "code",
   "execution_count": 35,
   "id": "f3652857",
   "metadata": {},
   "outputs": [
    {
     "ename": "RuntimeError",
     "evalue": "mat1 and mat2 shapes cannot be multiplied (3x2 and 3x2)",
     "output_type": "error",
     "traceback": [
      "\u001b[1;31m---------------------------------------------------------------------------\u001b[0m",
      "\u001b[1;31mRuntimeError\u001b[0m                              Traceback (most recent call last)",
      "Cell \u001b[1;32mIn[35], line 11\u001b[0m\n\u001b[0;32m      3\u001b[0m tensor_A \u001b[38;5;241m=\u001b[39m torch\u001b[38;5;241m.\u001b[39mtensor([[\u001b[38;5;241m1\u001b[39m, \u001b[38;5;241m2\u001b[39m],\n\u001b[0;32m      4\u001b[0m                          [\u001b[38;5;241m3\u001b[39m, \u001b[38;5;241m4\u001b[39m],\n\u001b[0;32m      5\u001b[0m                          [\u001b[38;5;241m5\u001b[39m, \u001b[38;5;241m6\u001b[39m]], dtype\u001b[38;5;241m=\u001b[39mtorch\u001b[38;5;241m.\u001b[39mfloat32) \u001b[38;5;66;03m# 3 x 2 Matrix\u001b[39;00m\n\u001b[0;32m      7\u001b[0m tensor_B \u001b[38;5;241m=\u001b[39m torch\u001b[38;5;241m.\u001b[39mtensor([[\u001b[38;5;241m7\u001b[39m, \u001b[38;5;241m10\u001b[39m],\n\u001b[0;32m      8\u001b[0m                          [\u001b[38;5;241m8\u001b[39m, \u001b[38;5;241m11\u001b[39m], \n\u001b[0;32m      9\u001b[0m                          [\u001b[38;5;241m9\u001b[39m, \u001b[38;5;241m12\u001b[39m]], dtype\u001b[38;5;241m=\u001b[39mtorch\u001b[38;5;241m.\u001b[39mfloat32)  \u001b[38;5;66;03m# 3 x 2 Matrix\u001b[39;00m\n\u001b[1;32m---> 11\u001b[0m \u001b[43mtorch\u001b[49m\u001b[38;5;241;43m.\u001b[39;49m\u001b[43mmatmul\u001b[49m\u001b[43m(\u001b[49m\u001b[43mtensor_A\u001b[49m\u001b[43m,\u001b[49m\u001b[43m \u001b[49m\u001b[43mtensor_B\u001b[49m\u001b[43m)\u001b[49m \u001b[38;5;66;03m# (this will error) as matrix inner dimension should be same\u001b[39;00m\n",
      "\u001b[1;31mRuntimeError\u001b[0m: mat1 and mat2 shapes cannot be multiplied (3x2 and 3x2)"
     ]
    }
   ],
   "source": [
    "# One of the most common errors in deep learning (shape errors)\n",
    "# Shapes need to be in the right way  \n",
    "tensor_A = torch.tensor([[1, 2],\n",
    "                         [3, 4],\n",
    "                         [5, 6]], dtype=torch.float32) # 3 x 2 Matrix\n",
    "\n",
    "tensor_B = torch.tensor([[7, 10],\n",
    "                         [8, 11], \n",
    "                         [9, 12]], dtype=torch.float32)  # 3 x 2 Matrix\n",
    "\n",
    "torch.matmul(tensor_A, tensor_B) # (this will error) as matrix inner dimension should be same"
   ]
  },
  {
   "cell_type": "code",
   "execution_count": null,
   "id": "f125939f",
   "metadata": {},
   "outputs": [
    {
     "name": "stdout",
     "output_type": "stream",
     "text": [
      "tensor([[1., 2.],\n",
      "        [3., 4.],\n",
      "        [5., 6.]])\n",
      "tensor([[ 7.,  8.,  9.],\n",
      "        [10., 11., 12.]])\n"
     ]
    },
    {
     "data": {
      "text/plain": [
       "tensor([[ 27.,  30.,  33.],\n",
       "        [ 61.,  68.,  75.],\n",
       "        [ 95., 106., 117.]])"
      ]
     },
     "execution_count": 53,
     "metadata": {},
     "output_type": "execute_result"
    }
   ],
   "source": [
    "# Above can be corrected using following\n",
    "\n",
    "print(tensor_A) # 3x2\n",
    "print(tensor_B.T) # 2x3 (.T is transpose of a matrix)\n",
    "torch.matmul(tensor_A, tensor_B.T) # torch.mm also can be used\n",
    "\n",
    "# Note: A matrix multiplication like this is also referred to as the dot product of two matrices."
   ]
  },
  {
   "cell_type": "markdown",
   "id": "9eb2fb22",
   "metadata": {},
   "source": [
    "Neural networks are full of matrix multiplications and dot products.\n",
    "\n",
    "- The torch.nn.Linear() module, also known as a **feed-forward layer or fully connected layer**, implements a matrix multiplication between an input x and a weights matrix A\n",
    "y = x.A^T + b\n",
    "\n",
    "Where:\n",
    "\n",
    "x is the input to the layer (deep learning is a stack of layers like torch.nn.Linear() and others on top of each other).\n",
    "\n",
    "A is the weights matrix created by the layer, this starts out as random numbers that get adjusted as a neural network learns to better represent patterns in the data (notice the \"T\", that's because the weights matrix gets transposed).\n",
    "\n",
    "Note: You might also often see W or another letter like X used to showcase the weights matrix.\n",
    "b is the bias term used to slightly offset the weights and inputs.\n",
    "\n",
    "y is the output (a manipulation of the input in the hopes to discover patterns in it).\n",
    "\n",
    "This is a linear function (something like $y = mx+b$), and can be used to draw a straight line!\n",
    "\n"
   ]
  },
  {
   "cell_type": "code",
   "execution_count": null,
   "id": "dd6c2132",
   "metadata": {},
   "outputs": [
    {
     "name": "stdout",
     "output_type": "stream",
     "text": [
      "Input size: torch.Size([3, 2])\n",
      "\n",
      "Output:\n",
      "tensor([[2.2368, 1.2292, 0.4714, 0.3864, 0.1309, 0.9838],\n",
      "        [4.4919, 2.1970, 0.4469, 0.5285, 0.3401, 2.4777],\n",
      "        [6.7469, 3.1648, 0.4224, 0.6705, 0.5493, 3.9716]],\n",
      "       grad_fn=<AddmmBackward0>)\n",
      "\n",
      "Output size: torch.Size([3, 6])\n"
     ]
    }
   ],
   "source": [
    "# torch.nn.Linear()\n",
    "# A weights matrix (A) of size [out_features, in_features]\n",
    "# A bias vector (b) of size [out_features]\n",
    "import torch\n",
    "torch.manual_seed(42)\n",
    "\n",
    "linear = torch.nn.Linear(in_features=2, out_features=6)\n",
    "x = tensor_A\n",
    "output = linear(x)\n",
    "\n",
    "print(f\"Input size: {x.shape}\\n\")\n",
    "print(f\"Output:\\n{output}\\n\")\n",
    "print(f\"Output size: {output.shape}\")\n"
   ]
  },
  {
   "cell_type": "code",
   "execution_count": null,
   "id": "c977e81a",
   "metadata": {},
   "outputs": [
    {
     "name": "stdout",
     "output_type": "stream",
     "text": [
      "tensor([ 0,  5, 10, 15, 20, 25, 30, 35, 40, 45])\n",
      "Min: 0\n",
      "Max: 45\n",
      "Mean: 22.5\n",
      "Sum: 225\n",
      "tensor([1., 2., 3.], dtype=torch.float16)\n",
      "tensor([1, 2, 3], dtype=torch.int8)\n"
     ]
    }
   ],
   "source": [
    "# Finding the min, max, mean, sum, etc\n",
    "import torch\n",
    "# Creating Tensor\n",
    "x = torch.arange(0, 50, 5)\n",
    "print(x)\n",
    "print('Min:', x.min().item())\n",
    "print('Max:', x.max().item())\n",
    "print('Mean:', x.type(torch.float32).mean().item())\n",
    "print('Sum:', x.sum().item())\n",
    "\n",
    "# Note: tensor.item() will give the value, otherwise it will give values in form tensor(value)\n",
    "# Note: You may find some methods such as torch.mean() require tensors to be in torch.float32 (the most common) or another specific datatype, otherwise the operation will fail.\n",
    "\n",
    "# Can be done using torch methods as follows also:\n",
    "torch.max(x), torch.min(x), torch.mean(x.type(torch.float32)), torch.sum(x)\n",
    "\n",
    "\n",
    "# Note: You can change the datatypes of tensors using torch.Tensor.type(dtype=None) where the dtype parameter is the datatype we'd like to use\n",
    "\n",
    "tensor_float16 = tensor.type(torch.float16)\n",
    "print(tensor_float16)\n",
    "tensor_int8 = tensor.type(torch.int8)\n",
    "print(tensor_int8)"
   ]
  },
  {
   "cell_type": "code",
   "execution_count": null,
   "id": "521b46d0",
   "metadata": {},
   "outputs": [
    {
     "name": "stdout",
     "output_type": "stream",
     "text": [
      "Index where max value occurs:  9\n",
      "Index where min value occurs:  0\n"
     ]
    }
   ],
   "source": [
    "\"\"\" Positional min/max\n",
    "You can also find the index of a tensor where the max or minimum occurs with torch.argmax() and \n",
    "torch.argmin() respectively. \"\"\"\n",
    "# This is helpful incase you just want the position where the highest (or lowest) value is and not the actual value itself\n",
    "\n",
    "print('Index where max value occurs: ', x.argmax().item())\n",
    "print('Index where min value occurs: ', x.argmin().item())\n"
   ]
  },
  {
   "cell_type": "markdown",
   "id": "9f719789",
   "metadata": {},
   "source": [
    "### Reshaping, stacking, squeezing and unsqueezing\n",
    "\n",
    "| **Method** | **One-line description** |\n",
    "|-------------|---------------------------|\n",
    "| `torch.reshape(input, shape)` | Reshapes input to `shape` (if compatible), can also use `torch.Tensor.reshape()`. |\n",
    "| `Tensor.view(shape)` | Returns a view of the original tensor in a different shape but shares the same data as the original tensor. |\n",
    "| `torch.stack(tensors, dim=0)` | Concatenates a sequence of tensors along a new dimension (`dim`), all tensors must be same size. |\n",
    "| `torch.squeeze(input)` | Squeezes input to remove all the dimensions with value `1`. |\n",
    "| `torch.unsqueeze(input, dim)` | Returns input with a dimension value of `1` added at `dim`. |\n",
    "| `torch.permute(input, dims)` | Returns a view of the original input with its dimensions permuted (rearranged) to `dims`. |\n",
    "\n",
    "**Why do any of these?**\n",
    "\n",
    "- Because deep learning models (neural networks) are all about manipulating tensors in some way. And because of the rules of matrix multiplication, if you've got shape mismatches, you'll run into errors. These methods help you make sure the right elements of your tensors are mixing with the right elements of other tensors."
   ]
  },
  {
   "cell_type": "code",
   "execution_count": null,
   "id": "6d21190d",
   "metadata": {},
   "outputs": [
    {
     "name": "stdout",
     "output_type": "stream",
     "text": [
      "tensor([1, 2, 3, 4, 5, 6, 7])\n",
      "torch.Size([7])\n",
      "x_reshaped: tensor([[1, 2, 3, 4, 5, 6, 7]])\n",
      "torch.Size([1, 7])\n",
      "tensor([[1],\n",
      "        [2],\n",
      "        [3],\n",
      "        [4],\n",
      "        [5],\n",
      "        [6],\n",
      "        [7]])\n",
      "original (changes value in the data, but shape remains the same): \n",
      "  tensor([  1,   2, 456,   4,   5,   6,   7])\n",
      "tensor([[  1],\n",
      "        [  2],\n",
      "        [456],\n",
      "        [  4],\n",
      "        [  5],\n",
      "        [  6],\n",
      "        [  7]])\n"
     ]
    }
   ],
   "source": [
    "import torch\n",
    "\n",
    "x = torch.arange(1, 8)\n",
    "print(x)\n",
    "print(x.shape)\n",
    "\n",
    "# Adding extra dimension\n",
    "x_reshaped = x.reshape(1,7)\n",
    "print('x_reshaped:', x_reshaped)\n",
    "print(x_reshaped.shape)\n",
    "\n",
    "# Change view\n",
    "z = x.view(7, 1)\n",
    "print(z)\n",
    "z[2,0] = 456\n",
    "print('original (changes value in the data, but shape remains the same): \\n ', x)\n",
    "print(z)\n",
    "\n",
    "# Changing the view of a tensor with torch.view() really only creates a new view of the same tensor.\n",
    "# So changing the view changes the original tensor too."
   ]
  },
  {
   "cell_type": "code",
   "execution_count": null,
   "id": "399e86db",
   "metadata": {},
   "outputs": [
    {
     "name": "stdout",
     "output_type": "stream",
     "text": [
      "tensor([  1,   2, 456,   4,   5,   6,   7])\n",
      "dim 0: (stacked over each other)\n",
      " tensor([[  1,   2, 456,   4,   5,   6,   7],\n",
      "        [  1,   2, 456,   4,   5,   6,   7],\n",
      "        [  1,   2, 456,   4,   5,   6,   7],\n",
      "        [  1,   2, 456,   4,   5,   6,   7],\n",
      "        [  1,   2, 456,   4,   5,   6,   7]])\n",
      "\n",
      " dim 1: (transposed and stack side by side) \n",
      " tensor([[  1,   1,   1,   1,   1],\n",
      "        [  2,   2,   2,   2,   2],\n",
      "        [456, 456, 456, 456, 456],\n",
      "        [  4,   4,   4,   4,   4],\n",
      "        [  5,   5,   5,   5,   5],\n",
      "        [  6,   6,   6,   6,   6],\n",
      "        [  7,   7,   7,   7,   7]])\n"
     ]
    }
   ],
   "source": [
    "# Stack tensors on top of each other\n",
    "x_stacked_dim0 = torch.stack([x, x, x, x, x], dim=0)\n",
    "x_stacked_dim1 = torch.stack([x, x, x, x, x], dim=1)\n",
    "print(x)\n",
    "print('dim 0: (stacked over each other)\\n', x_stacked_dim0)\n",
    "print('\\n dim 1: (transposed and stack side by side) \\n', x_stacked_dim1)"
   ]
  },
  {
   "cell_type": "code",
   "execution_count": null,
   "id": "468567a2",
   "metadata": {},
   "outputs": [
    {
     "name": "stdout",
     "output_type": "stream",
     "text": [
      "tensor([  1,   2, 456,   4,   5,   6,   7])\n",
      "torch.Size([7])\n"
     ]
    }
   ],
   "source": [
    "# Remove extra dimension from x_reshaped\n",
    "\n",
    "x_squeezed = x_reshaped.squeeze()\n",
    "print(x_squeezed)\n",
    "print(x_squeezed.shape)"
   ]
  },
  {
   "cell_type": "code",
   "execution_count": null,
   "id": "088a72b5",
   "metadata": {},
   "outputs": [
    {
     "name": "stdout",
     "output_type": "stream",
     "text": [
      "tensor([[  1,   2, 456,   4,   5,   6,   7]])\n",
      "torch.Size([1, 7])\n"
     ]
    }
   ],
   "source": [
    "# Add extra dimension with unsqueeze\n",
    "\n",
    "x_unsqueezed = x_squeezed.unsqueeze(dim=0)\n",
    "print(x_unsqueezed)\n",
    "print(x_unsqueezed.shape)"
   ]
  },
  {
   "cell_type": "code",
   "execution_count": null,
   "id": "fa41735e",
   "metadata": {},
   "outputs": [
    {
     "name": "stdout",
     "output_type": "stream",
     "text": [
      "Previous shape: torch.Size([224, 224, 3])\n",
      "New shape: torch.Size([3, 224, 224])\n"
     ]
    }
   ],
   "source": [
    "# Create tensor with specific shape\n",
    "x_original = torch.rand(size=(224, 224, 3))\n",
    "\n",
    "# Permute the original tensor to rearrange the axis order\n",
    "x_permuted = x_original.permute(2, 0, 1) # shifts axis 0->1, 1->2, 2->0\n",
    "\n",
    "print(f\"Previous shape: {x_original.shape}\")\n",
    "print(f\"New shape: {x_permuted.shape}\")\n",
    "\n",
    "# Note: Because permuting returns a view (shares the same data as the original), \n",
    "# the values in the permuted tensor will be the same as the original tensor and \n",
    "# if you change the values in the view, it will change the values of the original.\n"
   ]
  },
  {
   "cell_type": "code",
   "execution_count": null,
   "id": "437fd886",
   "metadata": {},
   "outputs": [
    {
     "name": "stdout",
     "output_type": "stream",
     "text": [
      "tensor([[[1, 2, 3],\n",
      "         [4, 5, 6],\n",
      "         [7, 8, 9]]]) torch.Size([1, 3, 3])\n",
      "1st Square bracket: \n",
      " tensor([[1, 2, 3],\n",
      "        [4, 5, 6],\n",
      "        [7, 8, 9]])\n",
      "2nd Square bracket: \n",
      " tensor([1, 2, 3])\n",
      "3rd Square bracket: \n",
      " tensor(1)\n"
     ]
    }
   ],
   "source": [
    "# Indexing\n",
    "# It is similar to indexing on Python lists or Numpy arrays\n",
    "\n",
    "import torch\n",
    "x = torch.arange(1, 10).reshape(1,3,3)\n",
    "print(x, x.shape)\n",
    "\n",
    "# Indexing bracket by bracket\n",
    "print('1st Square bracket: \\n', x[0])\n",
    "print('2nd Square bracket: \\n', x[0][0])\n",
    "print('3rd Square bracket: \\n', x[0][0][0])\n"
   ]
  },
  {
   "cell_type": "code",
   "execution_count": null,
   "id": "464637b9",
   "metadata": {},
   "outputs": [
    {
     "name": "stdout",
     "output_type": "stream",
     "text": [
      "tensor([[1, 2, 3]])\n",
      "tensor([[2, 5, 8]])\n",
      "tensor([5])\n",
      "tensor([1, 2, 3])\n"
     ]
    }
   ],
   "source": [
    "\"\"\" Think of the three dimensions as:\n",
    "dim0 = sample / batch dimension (index 0 has one sample),\n",
    "dim1 = row (3 rows: indices 0,1,2),\n",
    "dim2 = column (3 cols: indices 0,1,2).\"\"\"\n",
    "\n",
    "# Get all values of 0th dimension and the 0 index of 1st dimension\n",
    "print(x[:, 0])\n",
    "\n",
    "# Get all values of 0th & 1st dimensions but only index 1 of 2nd dimension\n",
    "print(x[:, :, 1])\n",
    "\n",
    "# Get all values of the 0 dimension but only the 1 index value of the 1st and 2nd dimension\n",
    "print(x[:, 1, 1])\n",
    "\n",
    "# Get index 0 of 0th and 1st dimension and all values of 2nd dimension \n",
    "print(x[0, 0, :]) # same as x[0][0]\n"
   ]
  },
  {
   "cell_type": "code",
   "execution_count": null,
   "id": "e57e7517",
   "metadata": {},
   "outputs": [
    {
     "data": {
      "text/plain": [
       "(array([1, 2, 3, 4, 5, 6, 7, 8, 9]),\n",
       " tensor([1, 2, 3, 4, 5, 6, 7, 8, 9], dtype=torch.int32))"
      ]
     },
     "execution_count": 40,
     "metadata": {},
     "output_type": "execute_result"
    }
   ],
   "source": [
    "# PyTorch tensors & NumPy\n",
    "\"\"\" The two main methods to use for NumPy to PyTorch (and back again) are:\n",
    "\n",
    "torch.from_numpy(ndarray) - NumPy array -> PyTorch tensor.\n",
    "torch.Tensor.numpy() - PyTorch tensor -> NumPy array. \"\"\"\n",
    "\n",
    "import torch\n",
    "import numpy as np\n",
    "\n",
    "array = np.arange(1, 10)\n",
    "tensor = torch.from_numpy(array)\n",
    "array, tensor\n",
    "\n",
    "# Note: By default, NumPy arrays are created with the datatype float64 and if you convert it \n",
    "# to a PyTorch tensor, it'll keep the same datatype (as above)\n",
    "# tensor = torch.from_numpy(array).type(torch.float32) ==> as mostly tensors are in float32 form"
   ]
  },
  {
   "cell_type": "code",
   "execution_count": 41,
   "id": "fd752ede",
   "metadata": {},
   "outputs": [
    {
     "data": {
      "text/plain": [
       "(tensor([1., 1., 1., 1., 1., 1., 1.]),\n",
       " array([1., 1., 1., 1., 1., 1., 1.], dtype=float32))"
      ]
     },
     "execution_count": 41,
     "metadata": {},
     "output_type": "execute_result"
    }
   ],
   "source": [
    "# tensor to NumPy array\n",
    "tensor = torch.ones(7)\n",
    "numpy_tensor = tensor.numpy()\n",
    "tensor, numpy_tensor"
   ]
  },
  {
   "cell_type": "code",
   "execution_count": 43,
   "id": "a6cd7480",
   "metadata": {},
   "outputs": [
    {
     "name": "stdout",
     "output_type": "stream",
     "text": [
      "Tensor_A :\n",
      " tensor([[0.5615, 0.1774, 0.8147, 0.3295],\n",
      "        [0.2319, 0.7832, 0.8544, 0.1012],\n",
      "        [0.1877, 0.9310, 0.0899, 0.3156]])\n",
      "\n",
      "Tensor_B :\n",
      " tensor([[0.5615, 0.1774, 0.8147, 0.3295],\n",
      "        [0.2319, 0.7832, 0.8544, 0.1012],\n",
      "        [0.1877, 0.9310, 0.0899, 0.3156]])\n"
     ]
    }
   ],
   "source": [
    "## Reproducibility\n",
    "\n",
    "import torch\n",
    "import random\n",
    "\n",
    "rand_seed = 20\n",
    "torch.manual_seed(rand_seed)\n",
    "tensor_A = torch.rand(3, 4)\n",
    "\n",
    "# Have to reset the seed every time a new rand() is called\n",
    "# Without this, tensor_A would be different to tensor_B \n",
    "torch.manual_seed(rand_seed)\n",
    "tensor_B = torch.rand(3,4)\n",
    "\n",
    "print('Tensor_A :\\n', tensor_A)\n",
    "print('\\nTensor_B :\\n', tensor_B)"
   ]
  },
  {
   "cell_type": "code",
   "execution_count": 45,
   "id": "bd32d691",
   "metadata": {},
   "outputs": [
    {
     "name": "stdout",
     "output_type": "stream",
     "text": [
      "Sun Oct 26 08:45:57 2025       \n",
      "+-----------------------------------------------------------------------------------------+\n",
      "| NVIDIA-SMI 581.29                 Driver Version: 581.29         CUDA Version: 13.0     |\n",
      "+-----------------------------------------+------------------------+----------------------+\n",
      "| GPU  Name                  Driver-Model | Bus-Id          Disp.A | Volatile Uncorr. ECC |\n",
      "| Fan  Temp   Perf          Pwr:Usage/Cap |           Memory-Usage | GPU-Util  Compute M. |\n",
      "|                                         |                        |               MIG M. |\n",
      "|=========================================+========================+======================|\n",
      "|   0  NVIDIA GeForce GTX 1650      WDDM  |   00000000:01:00.0  On |                  N/A |\n",
      "| N/A   41C    P8              1W /   50W |     317MiB /   4096MiB |      0%      Default |\n",
      "|                                         |                        |                  N/A |\n",
      "+-----------------------------------------+------------------------+----------------------+\n",
      "\n",
      "+-----------------------------------------------------------------------------------------+\n",
      "| Processes:                                                                              |\n",
      "|  GPU   GI   CI              PID   Type   Process name                        GPU Memory |\n",
      "|        ID   ID                                                               Usage      |\n",
      "|=========================================================================================|\n",
      "|    0   N/A  N/A           11812    C+G   C:\\Windows\\explorer.exe               N/A      |\n",
      "|    0   N/A  N/A           25468    C+G   ...ffice6\\promecefpluginhost.exe      N/A      |\n",
      "+-----------------------------------------------------------------------------------------+\n"
     ]
    }
   ],
   "source": [
    "# Getting PyTorch to run on the GPU\n",
    "!nvidia-smi"
   ]
  },
  {
   "cell_type": "code",
   "execution_count": 2,
   "id": "3274cc20",
   "metadata": {},
   "outputs": [
    {
     "data": {
      "text/plain": [
       "True"
      ]
     },
     "execution_count": 2,
     "metadata": {},
     "output_type": "execute_result"
    }
   ],
   "source": [
    "# Check for GPU\n",
    "\n",
    "import torch\n",
    "torch.cuda.is_available()"
   ]
  },
  {
   "cell_type": "code",
   "execution_count": 3,
   "id": "074f6478",
   "metadata": {},
   "outputs": [
    {
     "data": {
      "text/plain": [
       "1"
      ]
     },
     "execution_count": 3,
     "metadata": {},
     "output_type": "execute_result"
    }
   ],
   "source": [
    "# Count number of devices\n",
    "torch.cuda.device_count()"
   ]
  },
  {
   "cell_type": "code",
   "execution_count": null,
   "id": "deab7910",
   "metadata": {},
   "outputs": [],
   "source": []
  }
 ],
 "metadata": {
  "kernelspec": {
   "display_name": "torch-gpu",
   "language": "python",
   "name": "python3"
  },
  "language_info": {
   "codemirror_mode": {
    "name": "ipython",
    "version": 3
   },
   "file_extension": ".py",
   "mimetype": "text/x-python",
   "name": "python",
   "nbconvert_exporter": "python",
   "pygments_lexer": "ipython3",
   "version": "3.11.14"
  }
 },
 "nbformat": 4,
 "nbformat_minor": 5
}
