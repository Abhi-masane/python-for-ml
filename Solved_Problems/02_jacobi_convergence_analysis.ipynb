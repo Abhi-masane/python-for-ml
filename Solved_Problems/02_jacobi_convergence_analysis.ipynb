{
 "cells": [
  {
   "cell_type": "markdown",
   "id": "8d84ed03",
   "metadata": {},
   "source": [
    "# 02_jacobi_convergence_analysis\n",
    "\n",
    "Write a Python program that simulates and analyzes the convergence behavior of an iterative linear solver.\n",
    "\n",
    "1. Implement a Jacobi iterative solver to solve a small, diagonally dominant linear system ( A x = b ).\n",
    "2. Record the residual norm ( r_k = | b - A x_k |_2 ) at each iteration to track the convergence history.\n",
    "3. Generate a synthetic exponential decay curve representing ideal convergence and compare it with the actual solver residuals.\n",
    "4. Plot both convergence histories on a semilogarithmic scale.\n",
    "5. Compute and report the average convergence rate based on the residual data.\n"
   ]
  },
  {
   "cell_type": "code",
   "execution_count": null,
   "id": "bffa43a1",
   "metadata": {},
   "outputs": [
    {
     "name": "stdout",
     "output_type": "stream",
     "text": [
      "[[ 4 -1  0  0]\n",
      " [-1  4 -1  0]\n",
      " [ 0 -1  4  1]\n",
      " [ 0  0 -1  3]]\n"
     ]
    }
   ],
   "source": [
    "import numpy as np \n",
    "\n",
    "# Sample Test System which is stable and solution is known\n",
    "a = np.array([[4, -1, 0, 0],\n",
    "        [-1, 4, -1, 0],\n",
    "        [0, -1, 4, 1],\n",
    "        [0, 0, -1, 3]])\n",
    "\n",
    "b = np.array([15, 10, 10, 10])\n",
    "\n",
    "def jacobi(a, b, n, x=None):\n",
    "    # Initial guess\n",
    "    if x in None:\n",
    "        x = zeros(len(a[0]))\n",
    "    \n",
    "    "
   ]
  },
  {
   "cell_type": "code",
   "execution_count": null,
   "id": "4385e2c0",
   "metadata": {},
   "outputs": [],
   "source": []
  }
 ],
 "metadata": {
  "kernelspec": {
   "display_name": "base",
   "language": "python",
   "name": "python3"
  },
  "language_info": {
   "codemirror_mode": {
    "name": "ipython",
    "version": 3
   },
   "file_extension": ".py",
   "mimetype": "text/x-python",
   "name": "python",
   "nbconvert_exporter": "python",
   "pygments_lexer": "ipython3",
   "version": "3.11.7"
  }
 },
 "nbformat": 4,
 "nbformat_minor": 5
}
