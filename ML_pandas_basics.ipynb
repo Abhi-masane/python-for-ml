{
 "cells": [
  {
   "cell_type": "markdown",
   "id": "54a9b1a1",
   "metadata": {},
   "source": [
    "Pandas is a Python library, used to analyze data.\n",
    "It has functions for analyzing, cleaning, exploring, and manipulating data.\n",
    "The name \"Pandas\" has a reference to both \"Panel Data\", and \"Python Data Analysis\"\n",
    "\n",
    "Pandas allows us to analyze big data and make conclusions based on statistical theories. Pandas can clean messy data sets, and make them readable and relevant. Relevant data is very important in data science."
   ]
  },
  {
   "cell_type": "code",
   "execution_count": 2,
   "id": "17b1d4cf",
   "metadata": {},
   "outputs": [
    {
     "name": "stdout",
     "output_type": "stream",
     "text": [
      "     Unnamed: 0  Duration  Pulse  Maxpulse  Calories\n",
      "0             0        60    110       130     409.1\n",
      "1             1        60    117       145     479.0\n",
      "2             2        60    103       135     340.0\n",
      "3             3        45    109       175     282.4\n",
      "4             4        45    117       148     406.0\n",
      "5             5        60    102       127     300.5\n",
      "6             6        60    110       136     374.0\n",
      "7             7        45    104       134     253.3\n",
      "8             8        30    109       133     195.1\n",
      "9             9        60     98       124     269.0\n",
      "10           10        60    103       147     329.3\n",
      "11           11        60    100       120     250.7\n",
      "12           12        60    106       128     345.3\n",
      "13           13        60    104       132     379.3\n",
      "14           14        60     98       123     275.0\n",
      "15           15        60     98       120     215.2\n",
      "16           16        60    100       120     300.0\n",
      "17           17        45     90       112       NaN\n",
      "18           18        60    103       123     323.0\n",
      "19           19        45     97       125     243.0\n",
      "20           20        60    108       131     364.2\n",
      "21           21        45    100       119     282.0\n",
      "22           22        60    130       101     300.0\n",
      "23           23        45    105       132     246.0\n",
      "24           24        60    102       126     334.5\n",
      "25           25        60    100       120     250.0\n",
      "26           26        60     92       118     241.0\n",
      "27           27        60    103       132       NaN\n",
      "28           28        60    100       132     280.0\n",
      "29           29        60    102       129     380.3\n",
      "30           30        60     92       115     243.0\n",
      "31           31        45     90       112     180.1\n",
      "32           32        60    101       124     299.0\n",
      "33           33        60     93       113     223.0\n",
      "34           34        60    107       136     361.0\n",
      "35           35        60    114       140     415.0\n",
      "36           36        60    102       127     300.5\n",
      "37           37        60    100       120     300.1\n",
      "38           38        60    100       120     300.0\n",
      "39           39        45    104       129     266.0\n",
      "40           40        45     90       112     180.1\n",
      "41           41        60     98       126     286.0\n",
      "42           42        60    100       122     329.4\n",
      "43           43        60    111       138     400.0\n",
      "44           44        60    111       131     397.0\n",
      "45           45        60     99       119     273.0\n",
      "46           46        60    109       153     387.6\n",
      "47           47        45    111       136     300.0\n",
      "48           48        45    108       129     298.0\n",
      "49           49        60    111       139     397.6\n",
      "50           50        60    107       136     380.2\n",
      "51           51        80    123       146     643.1\n",
      "52           52        60    106       130     263.0\n",
      "53           53        60    118       151     486.0\n",
      "54           54        30    136       175     238.0\n",
      "55           55        60    121       146     450.7\n",
      "56           56        60    118       121     413.0\n",
      "57           57        45    115       144     305.0\n",
      "58           58        20    153       172     226.4\n",
      "59           59        45    123       152     321.0\n",
      "60           60       210    108       160    1376.0\n",
      "61           61       160    110       137    1034.4\n",
      "62           62       160    109       135     853.0\n",
      "63           63        45    118       141     341.0\n",
      "64           64        20    110       130     131.4\n",
      "65           65       180     90       130     800.4\n",
      "66           66       150    105       135     873.4\n",
      "67           67       150    107       130     816.0\n",
      "68           68        20    106       136     110.4\n",
      "69           69       300    108       143    1500.2\n",
      "70           70       150     97       129    1115.0\n",
      "71           71        60    109       153     387.6\n",
      "72           72        90    100       127     700.0\n",
      "73           73       150     97       127     953.2\n",
      "74           74        45    114       146     304.0\n",
      "75           75        90     98       125     563.2\n",
      "76           76        45    105       134     251.0\n",
      "77           77        45    110       141     300.0\n",
      "78           78       120    100       130     500.4\n",
      "79           79       270    100       131    1729.0\n",
      "80           80        30    159       182     319.2\n",
      "81           81        45    149       169     344.0\n",
      "82           82        30    103       139     151.1\n",
      "83           83       120    100       130     500.0\n",
      "84           84        45    100       120     225.3\n",
      "85           85        30    151       170     300.1\n",
      "86           86        45    102       136     234.0\n",
      "87           87       120    100       157    1000.1\n",
      "88           88        45    129       103     242.0\n",
      "89           89        20     83       107      50.3\n",
      "90           90       180    101       127     600.1\n",
      "91           91        45    107       137       NaN\n",
      "92           92        30     90       107     105.3\n",
      "93           93        15     80       100      50.5\n",
      "94           94        20    150       171     127.4\n",
      "95           95        20    151       168     229.4\n",
      "96           96        30     95       128     128.2\n",
      "97           97        25    152       168     244.2\n",
      "98           98        30    109       131     188.2\n",
      "99           99        90     93       124     604.1\n",
      "100         100        20     95       112      77.7\n",
      "101         101        90     90       110     500.0\n",
      "102         102        90     90       100     500.0\n",
      "103         103        90     90       100     500.4\n",
      "104         104        30     92       108      92.7\n",
      "105         105        30     93       128     124.0\n",
      "106         106       180     90       120     800.3\n",
      "107         107        30     90       120      86.2\n",
      "108         108        90     90       120     500.3\n",
      "109         109       210    137       184    1860.4\n",
      "110         110        60    102       124     325.2\n",
      "111         111        45    107       124     275.0\n",
      "112         112        15    124       139     124.2\n",
      "113         113        45    100       120     225.3\n",
      "114         114        60    108       131     367.6\n",
      "115         115        60    108       151     351.7\n",
      "116         116        60    116       141     443.0\n",
      "117         117        60     97       122     277.4\n",
      "118         118        60    105       125       NaN\n",
      "119         119        60    103       124     332.7\n",
      "120         120        30    112       137     193.9\n",
      "121         121        45    100       120     100.7\n",
      "122         122        60    119       169     336.7\n",
      "123         123        60    107       127     344.9\n",
      "124         124        60    111       151     368.5\n",
      "125         125        60     98       122     271.0\n",
      "126         126        60     97       124     275.3\n",
      "127         127        60    109       127     382.0\n",
      "128         128        90     99       125     466.4\n",
      "129         129        60    114       151     384.0\n",
      "130         130        60    104       134     342.5\n",
      "131         131        60    107       138     357.5\n",
      "132         132        60    103       133     335.0\n",
      "133         133        60    106       132     327.5\n",
      "134         134        60    103       136     339.0\n",
      "135         135        20    136       156     189.0\n",
      "136         136        45    117       143     317.7\n",
      "137         137        45    115       137     318.0\n",
      "138         138        45    113       138     308.0\n",
      "139         139        20    141       162     222.4\n",
      "140         140        60    108       135     390.0\n",
      "141         141        60     97       127       NaN\n",
      "142         142        45    100       120     250.4\n",
      "143         143        45    122       149     335.4\n",
      "144         144        60    136       170     470.2\n",
      "145         145        45    106       126     270.8\n",
      "146         146        60    107       136     400.0\n",
      "147         147        60    112       146     361.9\n",
      "148         148        30    103       127     185.0\n",
      "149         149        60    110       150     409.4\n",
      "150         150        60    106       134     343.0\n",
      "151         151        60    109       129     353.2\n",
      "152         152        60    109       138     374.0\n",
      "153         153        30    150       167     275.8\n",
      "154         154        60    105       128     328.0\n",
      "155         155        60    111       151     368.5\n",
      "156         156        60     97       131     270.4\n",
      "157         157        60    100       120     270.4\n",
      "158         158        60    114       150     382.8\n",
      "159         159        30     80       120     240.9\n",
      "160         160        30     85       120     250.4\n",
      "161         161        45     90       130     260.4\n",
      "162         162        45     95       130     270.0\n",
      "163         163        45    100       140     280.9\n",
      "164         164        60    105       140     290.8\n",
      "165         165        60    110       145     300.4\n",
      "166         166        60    115       145     310.2\n",
      "167         167        75    120       150     320.4\n",
      "168         168        75    125       150     330.4\n"
     ]
    }
   ],
   "source": [
    "# sample read\n",
    "import pandas as pd\n",
    "\n",
    "df = pd.read_csv('data.csv')\n",
    "\n",
    "print(df.to_string())"
   ]
  },
  {
   "cell_type": "code",
   "execution_count": 4,
   "id": "5c20df43",
   "metadata": {},
   "outputs": [
    {
     "name": "stdout",
     "output_type": "stream",
     "text": [
      "   cars  passings\n",
      "0  Audi         4\n",
      "1    VW         6\n",
      "2   BMW         3\n"
     ]
    }
   ],
   "source": [
    "import pandas as pd\n",
    "\n",
    "raw = {\n",
    "  'cars': [\"Audi\", \"VW\", \"BMW\"],\n",
    "  'passings': [4, 6, 3]\n",
    "}\n",
    "\n",
    "myvar = pd.DataFrame(raw)\n",
    "\n",
    "print(myvar)"
   ]
  },
  {
   "cell_type": "markdown",
   "id": "bf600421",
   "metadata": {},
   "source": [
    "============= Pandas Series ==============\n",
    "\n",
    "A Pandas Series is like a column in a table. It is a one-dimensional array holding data of any type."
   ]
  },
  {
   "cell_type": "code",
   "execution_count": 21,
   "id": "85da75d3",
   "metadata": {},
   "outputs": [
    {
     "name": "stdout",
     "output_type": "stream",
     "text": [
      "0    2\n",
      "1    4\n",
      "2    6\n",
      "3    8\n",
      "dtype: int64\n",
      "first values of Series : 2\n",
      "ser1 -->\n",
      "a    2\n",
      "b    4\n",
      "c    6\n",
      "d    8\n",
      "dtype: int64\n"
     ]
    }
   ],
   "source": [
    "# Pandas Series\n",
    "a = [2, 4, 6, 8]\n",
    "ser = pd.Series(a)\n",
    "print(ser)\n",
    "print('first values of Series :', ser[0])\n",
    "\n",
    "# Create your own labels\n",
    "ser1 = pd.Series(a, index = ['a', 'b', 'c', 'd'])\n",
    "print('ser1 -->')\n",
    "print(ser1)"
   ]
  },
  {
   "cell_type": "code",
   "execution_count": 25,
   "id": "59da9a9f",
   "metadata": {},
   "outputs": [
    {
     "name": "stdout",
     "output_type": "stream",
     "text": [
      "ser2 -->\n",
      "day1    400\n",
      "day2    360\n",
      "day3    430\n",
      "dtype: int64\n",
      "ser3 -->\n",
      "day1    400\n",
      "day3    430\n",
      "dtype: int64\n"
     ]
    }
   ],
   "source": [
    "# Create a Series using a Dictionary\n",
    "\n",
    "calories = {'day1': 400, 'day2': 360, 'day3': 430}\n",
    "ser2 = pd.Series(calories)\n",
    "print('ser2 -->')\n",
    "print(ser2)\n",
    "\n",
    "# Data only from day1 and day3\n",
    "ser3 = pd.Series(calories, index = ['day1', 'day3'])\n",
    "print('ser3 -->')\n",
    "print(ser3)"
   ]
  },
  {
   "cell_type": "code",
   "execution_count": 26,
   "id": "eb4171fc",
   "metadata": {},
   "outputs": [
    {
     "name": "stdout",
     "output_type": "stream",
     "text": [
      "temp -->\n",
      "   calories        day\n",
      "0       430     Monday\n",
      "1       380  Wednesday\n",
      "2       395     Friday\n"
     ]
    }
   ],
   "source": [
    "data = {\n",
    "    'calories' : [430, 380, 395],\n",
    "    'day' : ['Monday', 'Wednesday', 'Friday']\n",
    "}\n",
    "\n",
    "temp = pd.DataFrame(data)\n",
    "print('temp -->')\n",
    "print(temp)"
   ]
  },
  {
   "cell_type": "markdown",
   "id": "e3646143",
   "metadata": {},
   "source": [
    "Pandas DataFrames\n",
    "\n",
    "A Pandas DataFrame is a 2 dimensional data structure, like a 2 dimensional array, or a table with rows and columns.\n",
    "\n",
    "ex: pd.DataFrame(data)"
   ]
  },
  {
   "cell_type": "code",
   "execution_count": 1,
   "id": "72f8061a",
   "metadata": {},
   "outputs": [
    {
     "name": "stdout",
     "output_type": "stream",
     "text": [
      "   calories  duration\n",
      "0       400        50\n",
      "1       350        40\n",
      "2       300        45\n"
     ]
    }
   ],
   "source": [
    "# Example\n",
    "import pandas as pd\n",
    "\n",
    "data = {\n",
    "    \"calories\" : [400, 350, 300],\n",
    "    \"duration\" : [50, 40, 45]\n",
    "}\n",
    "\n",
    "var = pd.DataFrame(data)\n",
    "print(var)"
   ]
  },
  {
   "cell_type": "code",
   "execution_count": 12,
   "id": "4f157207",
   "metadata": {},
   "outputs": [
    {
     "name": "stdout",
     "output_type": "stream",
     "text": [
      "calories    350\n",
      "duration     40\n",
      "Name: 1, dtype: int64\n",
      "   calories  duration\n",
      "0       400        50\n",
      "1       350        40\n",
      "\n",
      " === var1 === \n",
      "        calories  duration\n",
      "day 1       400        50\n",
      "day 2       350        40\n",
      "day 3       300        45\n"
     ]
    }
   ],
   "source": [
    "# Locate Row\n",
    "# Pandas use the loc attribute to return one or more specified row(s)\n",
    "print(var.loc[1])\n",
    "print(var.loc[[0, 1]])\n",
    "\n",
    "# Note: When using [], the result is a Pandas DataFrame.\n",
    "\n",
    "# Giving our own list of names to each row\n",
    "# With the index argument, you can name your own indexes.\n",
    "\n",
    "var1 = pd.DataFrame(data, index = [\"day 1\", \"day 2\", \"day 3\"])\n",
    "print('\\n === var1 === \\n', var1)"
   ]
  },
  {
   "cell_type": "code",
   "execution_count": 13,
   "id": "8ecf0d43",
   "metadata": {},
   "outputs": [
    {
     "name": "stdout",
     "output_type": "stream",
     "text": [
      "calories    350\n",
      "duration     40\n",
      "Name: day 2, dtype: int64\n"
     ]
    }
   ],
   "source": [
    "# Locate Named Indexes\n",
    "# Use the named index in the loc attribute to return the specified row(s).\n",
    "\n",
    "print(var1.loc[\"day 2\"])"
   ]
  },
  {
   "cell_type": "code",
   "execution_count": null,
   "id": "b00346b6",
   "metadata": {},
   "outputs": [],
   "source": [
    "#Load Files Into a DataFrame \n",
    "import pandas as pd\n",
    "\n",
    "var2 = pd.read_csv('data.csv')\n",
    "\n",
    "# We can print it using : print(var2)"
   ]
  },
  {
   "cell_type": "code",
   "execution_count": null,
   "id": "931cdac2",
   "metadata": {},
   "outputs": [
    {
     "name": "stdout",
     "output_type": "stream",
     "text": [
      "   Unnamed: 0  Duration  Pulse  Maxpulse  Calories\n",
      "0           0        60    110       130     409.1\n",
      "1           1        60    117       145     479.0\n",
      "2           2        60    103       135     340.0\n",
      "3           3        45    109       175     282.4\n",
      "4           4        45    117       148     406.0\n",
      "5           5        60    102       127     300.5\n",
      "6           6        60    110       136     374.0\n",
      "7           7        45    104       134     253.3\n",
      "8           8        30    109       133     195.1\n",
      "9           9        60     98       124     269.0\n"
     ]
    }
   ],
   "source": [
    "# Syntax for returning the headers and the first 5 rows of a DataFrame. head()\n",
    "\n",
    "var3 = var2.head(10)\n",
    "print(var3)\n",
    "\n",
    "# Note : If you do not specify the number in head(), it will by default return 5 rows"
   ]
  },
  {
   "cell_type": "markdown",
   "id": "5f3ac483",
   "metadata": {},
   "source": [
    "Read CSV Files\n",
    "A simple way to store big data sets is to use CSV files (comma separated files).\n",
    "\n",
    "CSV files contains plain text and is a well know format that can be read by everyone including Pandas.\n"
   ]
  },
  {
   "cell_type": "code",
   "execution_count": null,
   "id": "ef4e0a40",
   "metadata": {},
   "outputs": [
    {
     "name": "stdout",
     "output_type": "stream",
     "text": [
      "     Unnamed: 0  Duration  Pulse  Maxpulse  Calories\n",
      "0             0        60    110       130     409.1\n",
      "1             1        60    117       145     479.0\n",
      "2             2        60    103       135     340.0\n",
      "3             3        45    109       175     282.4\n",
      "4             4        45    117       148     406.0\n",
      "..          ...       ...    ...       ...       ...\n",
      "164         164        60    105       140     290.8\n",
      "165         165        60    110       145     300.4\n",
      "166         166        60    115       145     310.2\n",
      "167         167        75    120       150     320.4\n",
      "168         168        75    125       150     330.4\n",
      "\n",
      "[169 rows x 5 columns]\n"
     ]
    }
   ],
   "source": [
    "import pandas as pd\n",
    "\n",
    "df = pd.read_csv('data.csv')\n",
    "\n",
    "print(df) \n",
    "\n",
    "# Tip: use to_string() to print the entire DataFrame. \n",
    "# print(df.to_string()) \n",
    "# If you have a large DataFrame with many rows, Pandas will only return the first 5 rows, and the last 5 rows"
   ]
  },
  {
   "cell_type": "code",
   "execution_count": 21,
   "id": "ec1fd580",
   "metadata": {},
   "outputs": [
    {
     "name": "stdout",
     "output_type": "stream",
     "text": [
      "60\n"
     ]
    }
   ],
   "source": [
    "# max_rows\n",
    "# The number of rows returned is defined in Pandas option settings.\n",
    "\n",
    "# You can check your system's maximum rows with the pd.options.display.max_rows statement.\n",
    "\n",
    "print(pd.options.display.max_rows) \n",
    "\n",
    "# You can change the maximum rows number with the same statement.\n",
    "# pd.options.display.max_rows = 9999 "
   ]
  },
  {
   "cell_type": "markdown",
   "id": "755cda65",
   "metadata": {},
   "source": [
    "Read JSON\n",
    "Big data sets are often stored, or extracted as JSON.\n",
    "\n",
    "JSON is plain text, but has the format of an object, and is well known in the world of programming, including Pandas.\n",
    "\n",
    "****** JSON = Python Dictionary\n",
    "\n",
    "JSON objects have the same format as Python dictionaries."
   ]
  },
  {
   "cell_type": "code",
   "execution_count": 24,
   "id": "05a0bec3",
   "metadata": {},
   "outputs": [
    {
     "name": "stdout",
     "output_type": "stream",
     "text": [
      "   EmployeeID           Name   Department  Salary JoiningDate  PerformanceScore  Remote\n",
      "0         101  Alice Johnson  Engineering   72000  2018-06-15                88   False\n",
      "1         102      Bob Smith    Marketing   54000  2020-03-01                73    True\n",
      "2         103  Charlie Brown  Engineering   81000  2016-09-20                91   False\n",
      "3         104      Diana Lee           HR   59000  2019-02-10                85    True\n",
      "4         105    Ethan Davis      Finance   67000  2021-08-05                77   False\n",
      "5         106    Fiona Clark    Marketing   61000  2017-11-25                80    True\n",
      "6         107  George Wilson  Engineering   94000  2015-04-30                95   False\n"
     ]
    }
   ],
   "source": [
    "import pandas as pd\n",
    "\n",
    "var4 = pd.read_json('data.json')\n",
    "print(var4.to_string())"
   ]
  },
  {
   "cell_type": "code",
   "execution_count": 25,
   "id": "6c7191d6",
   "metadata": {},
   "outputs": [
    {
     "name": "stdout",
     "output_type": "stream",
     "text": [
      "   StudyHours  FocusLevel  MaxScore  CaloriesBurned\n",
      "0         2.5          80        88             150\n",
      "1         3.0          75        92             160\n",
      "2         1.5          60        78             120\n",
      "3         4.0          90        95             180\n",
      "4         2.0          70        84             140\n",
      "5         3.5          85        90             170\n"
     ]
    }
   ],
   "source": [
    "# If your JSON code is not in a file, but in a Python Dictionary, you can load it into a DataFrame directly:\n",
    "\n",
    "import pandas as pd\n",
    "\n",
    "data = {\n",
    "    \"StudyHours\": {\n",
    "        \"0\": 2.5,\n",
    "        \"1\": 3.0,\n",
    "        \"2\": 1.5,\n",
    "        \"3\": 4.0,\n",
    "        \"4\": 2.0,\n",
    "        \"5\": 3.5\n",
    "    },\n",
    "    \"FocusLevel\": {\n",
    "        \"0\": 80,\n",
    "        \"1\": 75,\n",
    "        \"2\": 60,\n",
    "        \"3\": 90,\n",
    "        \"4\": 70,\n",
    "        \"5\": 85\n",
    "    },\n",
    "    \"MaxScore\": {\n",
    "        \"0\": 88,\n",
    "        \"1\": 92,\n",
    "        \"2\": 78,\n",
    "        \"3\": 95,\n",
    "        \"4\": 84,\n",
    "        \"5\": 90\n",
    "    },\n",
    "    \"CaloriesBurned\": {\n",
    "        \"0\": 150,\n",
    "        \"1\": 160,\n",
    "        \"2\": 120,\n",
    "        \"3\": 180,\n",
    "        \"4\": 140,\n",
    "        \"5\": 170\n",
    "    }\n",
    "}\n",
    "\n",
    "var5 = pd.DataFrame(data)\n",
    "\n",
    "print(var5)\n"
   ]
  },
  {
   "cell_type": "code",
   "execution_count": 28,
   "id": "7d8d08b3",
   "metadata": {},
   "outputs": [
    {
     "name": "stdout",
     "output_type": "stream",
     "text": [
      "     Unnamed: 0  Duration  Pulse  Maxpulse  Calories\n",
      "164         164        60    105       140     290.8\n",
      "165         165        60    110       145     300.4\n",
      "166         166        60    115       145     310.2\n",
      "167         167        75    120       150     320.4\n",
      "168         168        75    125       150     330.4\n"
     ]
    }
   ],
   "source": [
    "# There is also a tail() method for viewing the last rows of the DataFrame.\n",
    "\n",
    "# The tail() method returns the headers and a specified number of rows, starting from the bottom.\n",
    "\n",
    "print(df.tail()) "
   ]
  },
  {
   "cell_type": "code",
   "execution_count": null,
   "id": "c9e03a01",
   "metadata": {},
   "outputs": [
    {
     "name": "stdout",
     "output_type": "stream",
     "text": [
      "<class 'pandas.core.frame.DataFrame'>\n",
      "RangeIndex: 169 entries, 0 to 168\n",
      "Data columns (total 5 columns):\n",
      " #   Column      Non-Null Count  Dtype  \n",
      "---  ------      --------------  -----  \n",
      " 0   Unnamed: 0  169 non-null    int64  \n",
      " 1   Duration    169 non-null    int64  \n",
      " 2   Pulse       169 non-null    int64  \n",
      " 3   Maxpulse    169 non-null    int64  \n",
      " 4   Calories    164 non-null    float64\n",
      "dtypes: float64(1), int64(4)\n",
      "memory usage: 6.7 KB\n",
      "None\n"
     ]
    }
   ],
   "source": [
    "# Info about the data\n",
    "\n",
    "print(df.info())\n"
   ]
  },
  {
   "cell_type": "markdown",
   "id": "f1bb5762",
   "metadata": {},
   "source": [
    "\n",
    "============ Data Cleaning ================\n",
    "\n",
    "Data cleaning means fixing bad data in your data set.\n",
    "\n",
    "Bad data could be:\n",
    "\n",
    "    Empty cells\n",
    "    Data in wrong format\n",
    "    Wrong data\n",
    "    Duplicates\n",
    "\n",
    "==== Empty Cells\n",
    "Empty cells can potentially give you a wrong result when you analyze data.\n",
    "\n",
    "==== Remove Rows\n",
    "One way to deal with empty cells is to remove rows that contain empty cells.\n",
    "\n",
    "This is usually OK, since data sets can be very big, and removing a few rows will not have a big impact on the result.\n"
   ]
  },
  {
   "cell_type": "code",
   "execution_count": 32,
   "id": "bfaa9916",
   "metadata": {},
   "outputs": [
    {
     "name": "stdout",
     "output_type": "stream",
     "text": [
      "    Unnamed: 0  Duration          Date  Pulse  Maxpulse  Calories\n",
      "0            0        60  '2020/12/01'    110       130     409.1\n",
      "1            1        60  '2020/12/02'    117       145     479.0\n",
      "2            2        60  '2020/12/03'    103       135     340.0\n",
      "3            3        45  '2020/12/04'    109       175     282.4\n",
      "4            4        45  '2020/12/05'    117       148     406.0\n",
      "5            5        60  '2020/12/06'    102       127     300.0\n",
      "6            6        60  '2020/12/07'    110       136     374.0\n",
      "7            7       450  '2020/12/08'    104       134     253.3\n",
      "8            8        30  '2020/12/09'    109       133     195.1\n",
      "9            9        60  '2020/12/10'     98       124     269.0\n",
      "10          10        60  '2020/12/11'    103       147     329.3\n",
      "11          11        60  '2020/12/12'    100       120     250.7\n",
      "12          12        60  '2020/12/12'    100       120     250.7\n",
      "13          13        60  '2020/12/13'    106       128     345.3\n",
      "14          14        60  '2020/12/14'    104       132     379.3\n",
      "15          15        60  '2020/12/15'     98       123     275.0\n",
      "16          16        60  '2020/12/16'     98       120     215.2\n",
      "17          17        60  '2020/12/17'    100       120     300.0\n",
      "19          19        60  '2020/12/19'    103       123     323.0\n",
      "20          20        45  '2020/12/20'     97       125     243.0\n",
      "21          21        60  '2020/12/21'    108       131     364.2\n",
      "23          23        60  '2020/12/23'    130       101     300.0\n",
      "24          24        45  '2020/12/24'    105       132     246.0\n",
      "25          25        60  '2020/12/25'    102       126     334.5\n",
      "26          26        60    26-12-2020    100       120     250.0\n",
      "27          27        60  '2020/12/27'     92       118     241.0\n",
      "29          29        60  '2020/12/29'    100       132     280.0\n",
      "30          30        60  '2020/12/30'    102       129     380.3\n",
      "31          31        60  '2020/12/31'     92       115     243.0\n"
     ]
    }
   ],
   "source": [
    "# dropna()\n",
    "import pandas as pd\n",
    "\n",
    "temp = pd.read_csv('cleaning.csv')\n",
    "new_temp = temp.dropna()\n",
    "print(new_temp.to_string())"
   ]
  },
  {
   "cell_type": "code",
   "execution_count": 36,
   "id": "3d3d023a",
   "metadata": {},
   "outputs": [],
   "source": [
    "\"\"\" # Note: By default, the dropna() method returns a new DataFrame, and will not change the original.\n",
    "  If you want to change the original DataFrame, use the inplace = True argument: \"\"\"\n",
    "\n",
    "import pandas as pd\n",
    "\n",
    "temp1 = pd.read_csv('cleaning.csv')\n",
    "temp1.dropna(inplace = True)\n",
    "# print(temp1.to_string())\n"
   ]
  },
  {
   "cell_type": "code",
   "execution_count": 35,
   "id": "b34b790e",
   "metadata": {},
   "outputs": [],
   "source": [
    "\"\"\" Replace Empty Values\n",
    "Another way of dealing with empty cells is to insert a new value instead.\n",
    "\n",
    "This way you do not have to delete entire rows just because of some empty cells.\n",
    "\n",
    "The fillna() method allows us to replace empty cells with a value: \"\"\"\n",
    "\n",
    "temp3 = pd.read_csv('cleaning.csv')\n",
    "temp3.fillna({\"Calories\": 145}, inplace = True)\n"
   ]
  },
  {
   "cell_type": "code",
   "execution_count": 39,
   "id": "d333b3c0",
   "metadata": {},
   "outputs": [],
   "source": [
    "\"\"\" Replace Using Mean, Median, or Mode\n",
    "A common way to replace empty cells, is to calculate the mean, median or mode value of the column.\n",
    "Pandas uses the mean() median() and mode() methods to calculate the respective values for a specified column: \"\"\"\n",
    "\n",
    "# Mean\n",
    "temp4 = pd.read_csv('cleaning.csv')\n",
    "x = temp4[\"Calories\"].mean()\n",
    "temp4.fillna({\"Calories\": x}, inplace=True)\n",
    "\n",
    "# Median\n",
    "temp5 = pd.read_csv('cleaning.csv')\n",
    "y = temp5[\"Calories\"].median()\n",
    "temp5.fillna({\"Calories\": y}, inplace = True)\n",
    "\n",
    "# Mode\n",
    "temp6 = pd.read_csv('cleaning.csv')\n",
    "z = temp6[\"Calories\"].mode()\n",
    "temp6.fillna({\"Calories\": z}, inplace = True)\n",
    "# Mode = the value that appears most frequently.\n"
   ]
  },
  {
   "cell_type": "code",
   "execution_count": null,
   "id": "2d8645d7",
   "metadata": {},
   "outputs": [],
   "source": []
  }
 ],
 "metadata": {
  "kernelspec": {
   "display_name": "base",
   "language": "python",
   "name": "python3"
  },
  "language_info": {
   "codemirror_mode": {
    "name": "ipython",
    "version": 3
   },
   "file_extension": ".py",
   "mimetype": "text/x-python",
   "name": "python",
   "nbconvert_exporter": "python",
   "pygments_lexer": "ipython3",
   "version": "3.11.7"
  }
 },
 "nbformat": 4,
 "nbformat_minor": 5
}
