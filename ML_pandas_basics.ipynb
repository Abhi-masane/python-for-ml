{
 "cells": [
  {
   "cell_type": "markdown",
   "id": "54a9b1a1",
   "metadata": {},
   "source": [
    "Pandas is a Python library, used to analyze data.\n",
    "\n",
    "\n",
    "\n"
   ]
  }
 ],
 "metadata": {
  "language_info": {
   "name": "python"
  }
 },
 "nbformat": 4,
 "nbformat_minor": 5
}
